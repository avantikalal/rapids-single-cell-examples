{
 "cells": [
  {
   "cell_type": "markdown",
   "metadata": {},
   "source": [
    "# RAPIDS & Scanpy Single-Cell RNA-seq Workflow"
   ]
  },
  {
   "cell_type": "markdown",
   "metadata": {},
   "source": [
    "Copyright (c) 2020, NVIDIA CORPORATION.\n",
    "\n",
    "Licensed under the Apache License, Version 2.0 (the \"License\") you may not use this file except in compliance with the License. You may obtain a copy of the License at\n",
    "\n",
    "    http://www.apache.org/licenses/LICENSE-2.0 \n",
    "\n",
    "Unless required by applicable law or agreed to in writing, software distributed under the License is distributed on an \"AS IS\" BASIS, WITHOUT WARRANTIES OR CONDITIONS OF ANY KIND, either express or implied. See the License for the specific language governing permissions and limitations under the License."
   ]
  },
  {
   "cell_type": "markdown",
   "metadata": {},
   "source": [
    "This notebook demonstrates a single-cell RNA analysis workflow that begins with preprocessing a count matrix of size `(n_gene, n_cell)` and results in a visualization of the clustered cells for further analysis."
   ]
  },
  {
   "cell_type": "markdown",
   "metadata": {},
   "source": [
    "For demonstration purposes, we use a dataset of ~70,000 human lung cells from Travaglini et al. 2020 (https://www.biorxiv.org/content/10.1101/742320v2) and label cells using the ACE2 and TMPRSS2 genes. See the README for instructions to download this dataset."
   ]
  },
  {
   "cell_type": "markdown",
   "metadata": {},
   "source": [
    "## Import requirements"
   ]
  },
  {
   "cell_type": "code",
   "execution_count": 1,
   "metadata": {},
   "outputs": [],
   "source": [
    "import numpy as np\n",
    "import scanpy as sc\n",
    "import anndata\n",
    "\n",
    "import sys\n",
    "import time\n",
    "import os\n",
    "\n",
    "import cudf\n",
    "import cupy as cp\n",
    "\n",
    "from cuml.decomposition import PCA\n",
    "from cuml.manifold import TSNE\n",
    "from cuml.cluster import KMeans\n",
    "\n",
    "import rapids_scanpy_funcs\n",
    "\n",
    "import warnings\n",
    "warnings.filterwarnings('ignore', 'Expected ')\n",
    "\n",
    "import cuml\n",
    "import sklearn"
   ]
  },
  {
   "cell_type": "code",
   "execution_count": 2,
   "metadata": {
    "scrolled": true
   },
   "outputs": [],
   "source": [
    "import rmm\n",
    "\n",
    "rmm.reinitialize(\n",
    "    managed_memory=True, # Allows oversubscription\n",
    "    pool_allocator=False, # default is False\n",
    "    devices=0, # GPU device IDs to register. By default registers only GPU 0.\n",
    ")\n",
    "\n",
    "cp.cuda.set_allocator(rmm.rmm_cupy_allocator)"
   ]
  },
  {
   "cell_type": "markdown",
   "metadata": {},
   "source": [
    "## Input data"
   ]
  },
  {
   "cell_type": "code",
   "execution_count": 3,
   "metadata": {},
   "outputs": [],
   "source": [
    "input_file = \"../data/krasnow_hlca_10x_UMIs.sparse.h5ad\""
   ]
  },
  {
   "cell_type": "markdown",
   "metadata": {},
   "source": [
    "## Set parameters"
   ]
  },
  {
   "cell_type": "code",
   "execution_count": 4,
   "metadata": {},
   "outputs": [],
   "source": [
    "# marker genes\n",
    "RIBO_GENE_PREFIX = \"RPS\" # Prefix for ribosomal genes to regress out\n",
    "markers = [\"ACE2\", \"TMPRSS2\", \"EPCAM\"] # Marker genes for visualization\n",
    "\n",
    "# filtering cells\n",
    "min_genes_per_cell = 200 # Filter out cells with fewer genes than this expressed \n",
    "max_genes_per_cell = 6000 # Filter out cells with more genes than this expressed \n",
    "\n",
    "# filtering genes\n",
    "n_top_genes = 5000 # Number of highly variable genes to retain\n",
    "\n",
    "# PCA\n",
    "n_components = 50 # Number of principal components to compute\n",
    "\n",
    "# t-SNE\n",
    "tsne_n_pcs = 20 # Number of principal components to use for t-SNE\n",
    "\n",
    "# k-means\n",
    "k = 20 # Number of clusters for k-means\n",
    "\n",
    "# KNN\n",
    "n_neighbors = 15 # Number of nearest neighbors for KNN graph\n",
    "knn_n_pcs = 50 # Number of principal components to use for finding nearest neighbors\n",
    "\n",
    "# UMAP\n",
    "umap_min_dist = 0.3 \n",
    "umap_spread = 1.0\n",
    "\n",
    "# Louvain\n",
    "louvain_resolution = 0.4\n",
    "\n",
    "# Gene ranking\n",
    "ranking_n_top_genes = 50 # Number of differential genes to compute for each cluster"
   ]
  },
  {
   "cell_type": "code",
   "execution_count": 5,
   "metadata": {},
   "outputs": [],
   "source": [
    "start = time.time()"
   ]
  },
  {
   "cell_type": "markdown",
   "metadata": {},
   "source": [
    "## Load and Prepare Data"
   ]
  },
  {
   "cell_type": "markdown",
   "metadata": {},
   "source": [
    "We load the sparse count matrix from an `h5ad` file using Scanpy. The sparse count matrix will then be placed on the GPU. "
   ]
  },
  {
   "cell_type": "code",
   "execution_count": 6,
   "metadata": {},
   "outputs": [],
   "source": [
    "data_load_start = time.time()"
   ]
  },
  {
   "cell_type": "code",
   "execution_count": 7,
   "metadata": {},
   "outputs": [
    {
     "name": "stdout",
     "output_type": "stream",
     "text": [
      "CPU times: user 4.93 s, sys: 739 ms, total: 5.67 s\n",
      "Wall time: 5.67 s\n"
     ]
    }
   ],
   "source": [
    "%%time\n",
    "adata = sc.read(input_file)\n",
    "adata = adata.T"
   ]
  },
  {
   "cell_type": "code",
   "execution_count": 8,
   "metadata": {},
   "outputs": [
    {
     "data": {
      "text/plain": [
       "(65662, 26485)"
      ]
     },
     "execution_count": 8,
     "metadata": {},
     "output_type": "execute_result"
    }
   ],
   "source": [
    "adata.shape"
   ]
  },
  {
   "cell_type": "markdown",
   "metadata": {},
   "source": [
    "We maintain the index of unique cells and genes in our dataset:"
   ]
  },
  {
   "cell_type": "code",
   "execution_count": 9,
   "metadata": {},
   "outputs": [
    {
     "name": "stdout",
     "output_type": "stream",
     "text": [
      "CPU times: user 685 ms, sys: 490 ms, total: 1.17 s\n",
      "Wall time: 1.29 s\n"
     ]
    }
   ],
   "source": [
    "%%time\n",
    "cells = cudf.Series(adata.obs_names)\n",
    "genes = cudf.Series(adata.var_names)"
   ]
  },
  {
   "cell_type": "code",
   "execution_count": 10,
   "metadata": {},
   "outputs": [
    {
     "name": "stdout",
     "output_type": "stream",
     "text": [
      "CPU times: user 171 ms, sys: 547 ms, total: 718 ms\n",
      "Wall time: 723 ms\n"
     ]
    }
   ],
   "source": [
    "%%time\n",
    "sparse_gpu_array = cp.sparse.csr_matrix(adata.X)"
   ]
  },
  {
   "cell_type": "markdown",
   "metadata": {},
   "source": [
    "Verify the shape of the resulting sparse matrix:"
   ]
  },
  {
   "cell_type": "code",
   "execution_count": 11,
   "metadata": {},
   "outputs": [
    {
     "data": {
      "text/plain": [
       "(65662, 26485)"
      ]
     },
     "execution_count": 11,
     "metadata": {},
     "output_type": "execute_result"
    }
   ],
   "source": [
    "sparse_gpu_array.shape"
   ]
  },
  {
   "cell_type": "markdown",
   "metadata": {},
   "source": [
    "And the number of non-zero values in the matrix:"
   ]
  },
  {
   "cell_type": "code",
   "execution_count": 12,
   "metadata": {},
   "outputs": [
    {
     "data": {
      "text/plain": [
       "126510394"
      ]
     },
     "execution_count": 12,
     "metadata": {},
     "output_type": "execute_result"
    }
   ],
   "source": [
    "sparse_gpu_array.nnz"
   ]
  },
  {
   "cell_type": "code",
   "execution_count": 13,
   "metadata": {},
   "outputs": [
    {
     "name": "stdout",
     "output_type": "stream",
     "text": [
      "Total data load and format time: 7.722462177276611\n"
     ]
    }
   ],
   "source": [
    "data_load_time = time.time()\n",
    "print(\"Total data load and format time: %s\" % (data_load_time-data_load_start))"
   ]
  },
  {
   "cell_type": "markdown",
   "metadata": {},
   "source": [
    "## Preprocessing"
   ]
  },
  {
   "cell_type": "code",
   "execution_count": 14,
   "metadata": {},
   "outputs": [],
   "source": [
    "preprocess_start = time.time()"
   ]
  },
  {
   "cell_type": "markdown",
   "metadata": {},
   "source": [
    "### Filter"
   ]
  },
  {
   "cell_type": "markdown",
   "metadata": {},
   "source": [
    "We filter the count matrix to remove cells with an extreme number of genes expressed."
   ]
  },
  {
   "cell_type": "code",
   "execution_count": 15,
   "metadata": {},
   "outputs": [
    {
     "name": "stdout",
     "output_type": "stream",
     "text": [
      "CPU times: user 637 ms, sys: 745 ms, total: 1.38 s\n",
      "Wall time: 1.43 s\n"
     ]
    }
   ],
   "source": [
    "%%time\n",
    "sparse_gpu_array = rapids_scanpy_funcs.filter_cells(sparse_gpu_array, min_genes=min_genes_per_cell, max_genes=max_genes_per_cell)"
   ]
  },
  {
   "cell_type": "markdown",
   "metadata": {},
   "source": [
    "Some genes will now have zero expression in all cells. We filter out such genes."
   ]
  },
  {
   "cell_type": "code",
   "execution_count": 16,
   "metadata": {},
   "outputs": [
    {
     "name": "stdout",
     "output_type": "stream",
     "text": [
      "CPU times: user 1.05 s, sys: 227 ms, total: 1.28 s\n",
      "Wall time: 1.29 s\n"
     ]
    }
   ],
   "source": [
    "%%time\n",
    "sparse_gpu_array, genes = rapids_scanpy_funcs.filter_genes(sparse_gpu_array, genes, min_cells=1)"
   ]
  },
  {
   "cell_type": "markdown",
   "metadata": {},
   "source": [
    "The size of our count matrix is now reduced."
   ]
  },
  {
   "cell_type": "code",
   "execution_count": 17,
   "metadata": {},
   "outputs": [
    {
     "data": {
      "text/plain": [
       "(65462, 22058)"
      ]
     },
     "execution_count": 17,
     "metadata": {},
     "output_type": "execute_result"
    }
   ],
   "source": [
    "sparse_gpu_array.shape"
   ]
  },
  {
   "cell_type": "markdown",
   "metadata": {},
   "source": [
    "### Normalize"
   ]
  },
  {
   "cell_type": "markdown",
   "metadata": {},
   "source": [
    "We normalize the count matrix so that the total counts in each cell sum to 1e4."
   ]
  },
  {
   "cell_type": "code",
   "execution_count": 18,
   "metadata": {},
   "outputs": [
    {
     "name": "stdout",
     "output_type": "stream",
     "text": [
      "CPU times: user 928 µs, sys: 483 µs, total: 1.41 ms\n",
      "Wall time: 873 µs\n"
     ]
    }
   ],
   "source": [
    "%%time\n",
    "sparse_gpu_array = rapids_scanpy_funcs.normalize_total(sparse_gpu_array, target_sum=1e4)"
   ]
  },
  {
   "cell_type": "markdown",
   "metadata": {},
   "source": [
    "Next, we log transform the count matrix."
   ]
  },
  {
   "cell_type": "code",
   "execution_count": 19,
   "metadata": {},
   "outputs": [
    {
     "name": "stdout",
     "output_type": "stream",
     "text": [
      "CPU times: user 86.8 ms, sys: 63.6 ms, total: 150 ms\n",
      "Wall time: 149 ms\n"
     ]
    }
   ],
   "source": [
    "%%time\n",
    "sparse_gpu_array = sparse_gpu_array.log1p()"
   ]
  },
  {
   "cell_type": "markdown",
   "metadata": {},
   "source": [
    "### Select Most Variable Genes"
   ]
  },
  {
   "cell_type": "markdown",
   "metadata": {},
   "source": [
    "We convert the count matrix to an annData object."
   ]
  },
  {
   "cell_type": "code",
   "execution_count": 20,
   "metadata": {},
   "outputs": [
    {
     "name": "stdout",
     "output_type": "stream",
     "text": [
      "CPU times: user 278 ms, sys: 246 ms, total: 524 ms\n",
      "Wall time: 522 ms\n"
     ]
    }
   ],
   "source": [
    "%%time\n",
    "adata = anndata.AnnData(sparse_gpu_array.get())\n",
    "adata.var_names = genes.to_pandas()"
   ]
  },
  {
   "cell_type": "markdown",
   "metadata": {},
   "source": [
    "Using scanpy, we filter the count matrix to retain only the 5000 most variable genes."
   ]
  },
  {
   "cell_type": "code",
   "execution_count": 21,
   "metadata": {},
   "outputs": [
    {
     "name": "stdout",
     "output_type": "stream",
     "text": [
      "CPU times: user 1.94 s, sys: 34.4 ms, total: 1.98 s\n",
      "Wall time: 2.24 s\n"
     ]
    }
   ],
   "source": [
    "%%time\n",
    "sc.pp.highly_variable_genes(adata, n_top_genes=n_top_genes, flavor=\"cell_ranger\")\n",
    "adata = adata[:, adata.var.highly_variable]"
   ]
  },
  {
   "cell_type": "markdown",
   "metadata": {},
   "source": [
    "### Regress out confounding factors (number of counts, ribosomal gene expression)"
   ]
  },
  {
   "cell_type": "markdown",
   "metadata": {},
   "source": [
    "We can now perform regression on the count matrix to correct for confounding factors -  for example purposes, we use the number of counts and the expression of ribosomal genes. Many workflows use the expression of mitochondrial genes (named starting with `MT-`).\n",
    "\n",
    "Before regression, we save the 'raw' expression values of the ACE2 and TMPRSS2 genes to use for labeling cells afterward. We will also store the expression of an epithelial marker gene (EPCAM)."
   ]
  },
  {
   "cell_type": "code",
   "execution_count": 22,
   "metadata": {},
   "outputs": [
    {
     "name": "stdout",
     "output_type": "stream",
     "text": [
      "CPU times: user 521 ms, sys: 232 ms, total: 752 ms\n",
      "Wall time: 779 ms\n"
     ]
    }
   ],
   "source": [
    "%%time\n",
    "tmp_norm = sparse_gpu_array.tocsc()\n",
    "ACE2_raw = tmp_norm[:, genes[genes == \"ACE2\"].index[0]].todense().ravel()\n",
    "TMPRSS2_raw = tmp_norm[:, genes[genes == \"TMPRSS2\"].index[0]].todense().ravel()\n",
    "EPCAM_raw = tmp_norm[:, genes[genes == \"EPCAM\"].index[0]].todense().ravel()\n",
    "\n",
    "del tmp_norm"
   ]
  },
  {
   "cell_type": "code",
   "execution_count": 23,
   "metadata": {},
   "outputs": [],
   "source": [
    "genes = adata.var_names\n",
    "ribo_genes = adata.var_names.str.startswith(RIBO_GENE_PREFIX)"
   ]
  },
  {
   "cell_type": "code",
   "execution_count": 24,
   "metadata": {},
   "outputs": [
    {
     "name": "stdout",
     "output_type": "stream",
     "text": [
      "CPU times: user 544 ms, sys: 26 ms, total: 570 ms\n",
      "Wall time: 569 ms\n"
     ]
    }
   ],
   "source": [
    "%%time\n",
    "filtered = adata.X"
   ]
  },
  {
   "cell_type": "markdown",
   "metadata": {},
   "source": [
    "We now calculate the total counts and the percentage of ribosomal counts for each cell."
   ]
  },
  {
   "cell_type": "code",
   "execution_count": 25,
   "metadata": {},
   "outputs": [
    {
     "name": "stdout",
     "output_type": "stream",
     "text": [
      "CPU times: user 56.3 ms, sys: 0 ns, total: 56.3 ms\n",
      "Wall time: 54.5 ms\n"
     ]
    }
   ],
   "source": [
    "%%time\n",
    "n_counts = filtered.sum(axis=1)\n",
    "percent_ribo = (filtered[:,ribo_genes].sum(axis=1) / n_counts).ravel()\n",
    "\n",
    "n_counts = cp.array(n_counts).ravel()\n",
    "percent_ribo = cp.array(percent_ribo).ravel()"
   ]
  },
  {
   "cell_type": "markdown",
   "metadata": {},
   "source": [
    "And perform regression:"
   ]
  },
  {
   "cell_type": "code",
   "execution_count": 26,
   "metadata": {},
   "outputs": [
    {
     "name": "stdout",
     "output_type": "stream",
     "text": [
      "CPU times: user 1min, sys: 25.2 s, total: 1min 25s\n",
      "Wall time: 1min 50s\n"
     ]
    }
   ],
   "source": [
    "%%time\n",
    "sparse_gpu_array = cp.sparse.csc_matrix(adata.X)\n",
    "sparse_gpu_array = rapids_scanpy_funcs.regress_out(sparse_gpu_array, n_counts, percent_ribo)"
   ]
  },
  {
   "cell_type": "markdown",
   "metadata": {},
   "source": [
    "### Scale"
   ]
  },
  {
   "cell_type": "markdown",
   "metadata": {},
   "source": [
    "Finally, we scale the count matrix to obtain a z-score and apply a cutoff value of 10 standard deviations, obtaining the preprocessed count matrix."
   ]
  },
  {
   "cell_type": "code",
   "execution_count": 27,
   "metadata": {},
   "outputs": [
    {
     "name": "stdout",
     "output_type": "stream",
     "text": [
      "CPU times: user 180 ms, sys: 174 ms, total: 354 ms\n",
      "Wall time: 352 ms\n"
     ]
    }
   ],
   "source": [
    "%%time\n",
    "sparse_gpu_array = rapids_scanpy_funcs.scale(sparse_gpu_array, max_value=10)"
   ]
  },
  {
   "cell_type": "markdown",
   "metadata": {},
   "source": [
    "## Cluster & Visualize"
   ]
  },
  {
   "cell_type": "code",
   "execution_count": 28,
   "metadata": {},
   "outputs": [],
   "source": [
    "cluster_start = time.time()"
   ]
  },
  {
   "cell_type": "markdown",
   "metadata": {},
   "source": [
    "We store the preprocessed count matrix as an AnnData object, which is currently in host memory. We also add the expression levels of the marker genes as observations to the annData object."
   ]
  },
  {
   "cell_type": "code",
   "execution_count": 29,
   "metadata": {},
   "outputs": [
    {
     "name": "stdout",
     "output_type": "stream",
     "text": [
      "CPU times: user 329 ms, sys: 294 ms, total: 623 ms\n",
      "Wall time: 622 ms\n"
     ]
    }
   ],
   "source": [
    "%%time\n",
    "\n",
    "var_names = adata.var_names\n",
    "adata = anndata.AnnData(sparse_gpu_array.get())\n",
    "adata.var_names = var_names\n",
    "adata.obs[\"ACE2_raw\"] = ACE2_raw.get()\n",
    "adata.obs[\"TMPRSS2_raw\"] = TMPRSS2_raw.get()\n",
    "adata.obs[\"EPCAM_raw\"] = EPCAM_raw.get()"
   ]
  },
  {
   "cell_type": "markdown",
   "metadata": {},
   "source": [
    "### Reduce"
   ]
  },
  {
   "cell_type": "markdown",
   "metadata": {},
   "source": [
    "We use PCA to reduce the dimensionality of the matrix to its top 50 principal components."
   ]
  },
  {
   "cell_type": "code",
   "execution_count": 30,
   "metadata": {},
   "outputs": [
    {
     "name": "stdout",
     "output_type": "stream",
     "text": [
      "CPU times: user 1.42 s, sys: 793 ms, total: 2.21 s\n",
      "Wall time: 2.21 s\n"
     ]
    }
   ],
   "source": [
    "%%time\n",
    "adata.obsm[\"X_pca\"] = PCA(n_components=n_components, output_type=\"numpy\").fit_transform(adata.X)"
   ]
  },
  {
   "cell_type": "markdown",
   "metadata": {},
   "source": [
    "We visualize the cells using t-SNE and label cells by color according to the k-means clustering."
   ]
  },
  {
   "cell_type": "markdown",
   "metadata": {},
   "source": [
    "### UMAP + Louvain"
   ]
  },
  {
   "cell_type": "markdown",
   "metadata": {},
   "source": [
    "We can also visualize the cells using the UMAP algorithm in Rapids. Before UMAP, we need to construct a k-nearest neighbors graph in which each cell is connected to its nearest neighbors. This can be done conveniently using rapids functionality already integrated into Scanpy.\n",
    "\n",
    "Note that Scanpy uses an approximation to the nearest neighbors on the CPU while the GPU version performs an exact search. While both methods are known to yield useful results, some differences in the resulting visualization and clusters can be observed."
   ]
  },
  {
   "cell_type": "code",
   "execution_count": 31,
   "metadata": {},
   "outputs": [
    {
     "name": "stderr",
     "output_type": "stream",
     "text": [
      "/rapids-genomics/rapidgenomics/lib/python3.7/site-packages/numba/np/ufunc/parallel.py:355: NumbaWarning: The TBB threading layer requires TBB version 2019.5 or later i.e., TBB_INTERFACE_VERSION >= 11005. Found TBB_INTERFACE_VERSION = 10005. The TBB threading layer is disabled.\n",
      "  warnings.warn(problem)\n"
     ]
    },
    {
     "name": "stdout",
     "output_type": "stream",
     "text": [
      "CPU times: user 8.16 s, sys: 740 ms, total: 8.9 s\n",
      "Wall time: 7 s\n"
     ]
    }
   ],
   "source": [
    "%%time\n",
    "sc.pp.neighbors(adata, n_neighbors=n_neighbors, n_pcs=knn_n_pcs, method='rapids')"
   ]
  },
  {
   "cell_type": "markdown",
   "metadata": {},
   "source": [
    "The UMAP function from Rapids is also integrated into Scanpy."
   ]
  },
  {
   "cell_type": "code",
   "execution_count": 32,
   "metadata": {},
   "outputs": [
    {
     "name": "stdout",
     "output_type": "stream",
     "text": [
      "WARNING: .obsp[\"connectivities\"] have not been computed using umap\n",
      "CPU times: user 584 ms, sys: 525 ms, total: 1.11 s\n",
      "Wall time: 1.14 s\n"
     ]
    }
   ],
   "source": [
    "%%time\n",
    "sc.tl.umap(adata, min_dist=umap_min_dist, spread=umap_spread, method='rapids')"
   ]
  },
  {
   "cell_type": "markdown",
   "metadata": {},
   "source": [
    "Finally, we use the Louvain algorithm for graph-based clustering, once again using the `rapids` option in Scanpy."
   ]
  },
  {
   "cell_type": "code",
   "execution_count": 33,
   "metadata": {},
   "outputs": [
    {
     "name": "stderr",
     "output_type": "stream",
     "text": [
      "/rapids-genomics/rapidgenomics/lib/python3.7/site-packages/cugraph/structure/graph.py:333: UserWarning: add_adj_list will be deprecated in next release. Use from_cudf_adjlist instead\n",
      "  Use from_cudf_adjlist instead')\n"
     ]
    },
    {
     "name": "stdout",
     "output_type": "stream",
     "text": [
      "CPU times: user 267 ms, sys: 181 ms, total: 448 ms\n",
      "Wall time: 770 ms\n"
     ]
    }
   ],
   "source": [
    "%%time\n",
    "sc.tl.louvain(adata, resolution=louvain_resolution, flavor='rapids')"
   ]
  },
  {
   "cell_type": "markdown",
   "metadata": {},
   "source": [
    "## Differential expression analysis"
   ]
  },
  {
   "cell_type": "markdown",
   "metadata": {},
   "source": [
    "Once we have done clustering, we can compute a ranking for the highly differential genes in each cluster. Here we use the Louvain clusters as labels."
   ]
  },
  {
   "cell_type": "code",
   "execution_count": 34,
   "metadata": {},
   "outputs": [],
   "source": [
    "def select_groups(labels, groups_order_subset='all'):\n",
    "    adata_obs_key = labels\n",
    "    groups_order = labels.cat.categories\n",
    "    groups_masks = cp.zeros(\n",
    "        (len(labels.cat.categories), len(labels.cat.codes)), dtype=bool\n",
    "    )\n",
    "    for iname, name in enumerate(labels.cat.categories):\n",
    "        # if the name is not found, fallback to index retrieval\n",
    "        if labels.cat.categories[iname] in labels.cat.codes:\n",
    "            mask = labels.cat.categories[iname] == labels.cat.codes\n",
    "        else:\n",
    "            mask = iname == labels.cat.codes\n",
    "        groups_masks[iname] = mask.values\n",
    "    groups_ids = list(range(len(groups_order)))\n",
    "    if groups_order_subset != 'all':\n",
    "        groups_ids = []\n",
    "        for name in groups_order_subset:\n",
    "            groups_ids.append(\n",
    "                cp.where(cp.array(labels.cat.categories.to_array().astype(\"int32\")) == int(name))[0][0]\n",
    "            )\n",
    "        if len(groups_ids) == 0:\n",
    "            # fallback to index retrieval\n",
    "            groups_ids = cp.where(\n",
    "                cp.in1d(\n",
    "                    cp.arange(len(labels.cat.categories)).astype(str),\n",
    "                    cp.array(groups_order_subset),\n",
    "                )\n",
    "            )[0]\n",
    "            \n",
    "        groups_ids = [groups_id.item() for groups_id in groups_ids]\n",
    "        groups_masks = groups_masks[groups_ids]\n",
    "        groups_order_subset = labels.cat.categories[groups_ids].to_array()\n",
    "    else:\n",
    "        groups_order_subset = groups_order.to_array()\n",
    "    return groups_order_subset, groups_masks\n",
    "\n"
   ]
  },
  {
   "cell_type": "code",
   "execution_count": 35,
   "metadata": {},
   "outputs": [],
   "source": [
    "def _select_top_n(scores, n_top):\n",
    "    n_from = scores.shape[0]\n",
    "    reference_indices = np.arange(n_from, dtype=int)\n",
    "    partition = np.argpartition(scores, -n_top)[-n_top:]\n",
    "    partial_indices = np.argsort(scores[partition])[::-1]\n",
    "    global_indices = reference_indices[partition][partial_indices]\n",
    "    return global_indices\n",
    "\n",
    "def _ranks(X, mask=None, mask_rest=None):\n",
    "    CONST_MAX_SIZE = 10000000\n",
    "    n_genes = X.shape[1]\n",
    "    if issparse(X):\n",
    "        merge = lambda tpl: vstack(tpl).toarray()\n",
    "        adapt = lambda X: X.toarray()\n",
    "    else:\n",
    "        merge = np.vstack\n",
    "        adapt = lambda X: X\n",
    "    masked = mask is not None and mask_rest is not None\n",
    "    if masked:\n",
    "        n_cells = np.count_nonzero(mask) + np.count_nonzero(mask_rest)\n",
    "        get_chunk = lambda X, left, right: merge(\n",
    "            (X[mask, left:right], X[mask_rest, left:right])\n",
    "        )\n",
    "    else:\n",
    "        n_cells = X.shape[0]\n",
    "        get_chunk = lambda X, left, right: adapt(X[:, left:right])\n",
    "    # Calculate chunk frames\n",
    "    max_chunk = floor(CONST_MAX_SIZE / n_cells)\n",
    "    for left in range(0, n_genes, max_chunk):\n",
    "        right = min(left + max_chunk, n_genes)\n",
    "        df = pd.DataFrame(data=get_chunk(X, left, right))\n",
    "        ranks = df.rank()\n",
    "        yield ranks, left, right\n",
    "\n",
    "def sc_select_groups(adata, groups_order_subset='all', key='groups'):\n",
    "    \"\"\"Get subset of groups in adata.obs[key].\n",
    "    \"\"\"\n",
    "    groups_order = adata.obs[key].cat.categories\n",
    "    if key + '_masks' in adata.uns:\n",
    "        groups_masks = adata.uns[key + '_masks']\n",
    "    else:\n",
    "        groups_masks = np.zeros(\n",
    "            (len(adata.obs[key].cat.categories), adata.obs[key].values.size), dtype=bool\n",
    "        )\n",
    "        for iname, name in enumerate(adata.obs[key].cat.categories):\n",
    "            # if the name is not found, fallback to index retrieval\n",
    "            if adata.obs[key].cat.categories[iname] in adata.obs[key].values:\n",
    "                mask = adata.obs[key].cat.categories[iname] == adata.obs[key].values\n",
    "            else:\n",
    "                mask = str(iname) == adata.obs[key].values\n",
    "            groups_masks[iname] = mask\n",
    "    groups_ids = list(range(len(groups_order)))\n",
    "    if groups_order_subset != 'all':\n",
    "        groups_ids = []\n",
    "        for name in groups_order_subset:\n",
    "            groups_ids.append(\n",
    "                np.where(adata.obs[key].cat.categories.values == name)[0][0]\n",
    "            )\n",
    "        if len(groups_ids) == 0:\n",
    "            # fallback to index retrieval\n",
    "            groups_ids = np.where(\n",
    "                np.in1d(\n",
    "                    np.arange(len(adata.obs[key].cat.categories)).astype(str),\n",
    "                    np.array(groups_order_subset),\n",
    "                )\n",
    "            )[0]\n",
    "        if len(groups_ids) == 0:\n",
    "            logg.debug(\n",
    "                f'{np.array(groups_order_subset)} invalid! specify valid '\n",
    "                f'groups_order (or indices) from {adata.obs[key].cat.categories}',\n",
    "            )\n",
    "            from sys import exit\n",
    "\n",
    "            exit(0)\n",
    "        groups_masks = groups_masks[groups_ids]\n",
    "        groups_order_subset = adata.obs[key].cat.categories[groups_ids].values\n",
    "    else:\n",
    "        groups_order_subset = groups_order.values\n",
    "    return groups_order_subset, groups_masks"
   ]
  },
  {
   "cell_type": "markdown",
   "metadata": {},
   "source": [
    "## DGE when groups do not include 0"
   ]
  },
  {
   "cell_type": "code",
   "execution_count": 36,
   "metadata": {},
   "outputs": [
    {
     "name": "stdout",
     "output_type": "stream",
     "text": [
      "Ranking took (GPU): 1.2022655010223389\n",
      "Preparing output np.rec.fromarrays took (CPU): 0.0002472400665283203\n",
      "Note: This operation will be accelerated in a future version\n",
      "[(0.0411449, 0.05192262, 0.0491985, 0.04489372)]\n",
      "[('HLA-DRB1', 'CLDN5', 'HLA-DRB1', 'IFI27')]\n"
     ]
    }
   ],
   "source": [
    "cluster_labels = cudf.Series.from_categorical(adata.obs[\"louvain\"].cat)\n",
    "var_names = cudf.Series(var_names)\n",
    "scores, names, reference = rapids_scanpy_funcs.rank_genes_groups(\n",
    "    sparse_gpu_array, cluster_labels, var_names, n_genes=1, groups=['1', '2', '3'], reference='4')\n",
    "print(scores)\n",
    "print(names)"
   ]
  },
  {
   "cell_type": "code",
   "execution_count": 37,
   "metadata": {},
   "outputs": [
    {
     "data": {
      "text/plain": [
       "{'params': {'groupby': 'louvain',\n",
       "  'reference': '4',\n",
       "  'method': 'logreg',\n",
       "  'use_raw': False,\n",
       "  'layer': None,\n",
       "  'corr_method': 'benjamini-hochberg'},\n",
       " 'scores': rec.array([(0.09784701, 0.06829986, 0.14802197, 0.0592204)],\n",
       "           dtype=[('1', '<f4'), ('2', '<f4'), ('3', '<f4'), ('4', '<f4')]),\n",
       " 'names': rec.array([('EDNRB', 'LOC731424', 'ACKR1', 'COX4I2')],\n",
       "           dtype=[('1', '<U50'), ('2', '<U50'), ('3', '<U50'), ('4', '<U50')])}"
      ]
     },
     "execution_count": 37,
     "metadata": {},
     "output_type": "execute_result"
    }
   ],
   "source": [
    "sc.tl.rank_genes_groups(adata, groupby=\"louvain\", n_genes=1, groups=['1', '2', '3'], reference='4', method='logreg', use_raw=False)\n",
    "adata.uns['rank_genes_groups']"
   ]
  },
  {
   "cell_type": "code",
   "execution_count": 38,
   "metadata": {},
   "outputs": [
    {
     "name": "stdout",
     "output_type": "stream",
     "text": [
      "(12933, 5000)\n"
     ]
    }
   ],
   "source": [
    "groups=['1', '2', '3']\n",
    "labels = cluster_labels\n",
    "n_genes=1\n",
    "reference='4'\n",
    "groups_order = list(groups)\n",
    "groups_order += [reference]\n",
    "n_vars = len(var_names)\n",
    "n_genes_user = n_genes\n",
    "reference = groups_order[0]\n",
    "sc_groups_order, sc_groups_masks = sc_select_groups(adata, groups_order, 'louvain')\n",
    "sc_grouping_mask = adata.obs['louvain'].isin(sc_groups_order)\n",
    "sc_grouping = adata.obs.loc[sc_grouping_mask, 'louvain']\n",
    "sc_X = adata.X[sc_grouping_mask.values, :]\n",
    "print(sc_X.shape)"
   ]
  },
  {
   "cell_type": "code",
   "execution_count": 39,
   "metadata": {},
   "outputs": [
    {
     "name": "stdout",
     "output_type": "stream",
     "text": [
      "[1. 1. 1. ... 4. 4. 4.]\n",
      "[1. 2. 3. 4.]\n",
      "(12933,)\n"
     ]
    }
   ],
   "source": [
    "y = np.array(sc_grouping.cat.codes).astype('float32')\n",
    "print(y)\n",
    "print(np.unique(y))\n",
    "print(y.shape)"
   ]
  },
  {
   "cell_type": "markdown",
   "metadata": {},
   "source": [
    "#### With penalty"
   ]
  },
  {
   "cell_type": "code",
   "execution_count": 41,
   "metadata": {},
   "outputs": [
    {
     "name": "stdout",
     "output_type": "stream",
     "text": [
      "(4, 5000)\n",
      "[ 7.38160557e-05 -1.17872502e-02 -8.82218858e-03 ...  7.79808874e-04\n",
      " -4.77411688e-03 -2.60756054e-04]\n",
      "(4, 5000)\n",
      "[ 0.00102803  0.00186996 -0.06843644 ...  0.00165118 -0.00606385\n",
      "  0.0012012 ]\n",
      "0.04647692737498638\n",
      "0.11506294857788285\n",
      "-0.8902980580225195\n"
     ]
    }
   ],
   "source": [
    "clf = sklearn.linear_model.LogisticRegression()\n",
    "clf.fit(sc_X, y)\n",
    "sc_scores_all = clf.coef_\n",
    "print(sc_scores_all.shape)\n",
    "print(sc_scores_all[0])\n",
    "r_clf = cuml.linear_model.LogisticRegression(max_iter=100)\n",
    "r_clf.fit(sc_X, y)\n",
    "r_scores_all = cp.array(r_clf.coef_).T\n",
    "print(r_scores_all.shape)\n",
    "print(r_scores_all[0])\n",
    "for i in np.unique(y).astype(int)[:-1]:\n",
    "    print(np.corrcoef(r_scores_all[i].get(), sc_scores_all[i])[1,0])"
   ]
  },
  {
   "cell_type": "markdown",
   "metadata": {},
   "source": [
    "#### Without penalty"
   ]
  },
  {
   "cell_type": "code",
   "execution_count": 40,
   "metadata": {},
   "outputs": [
    {
     "name": "stdout",
     "output_type": "stream",
     "text": [
      "(4, 5000)\n",
      "[ 7.76778326e-05 -2.75741480e-02 -1.30746533e-02 ...  1.21806396e-03\n",
      " -8.19390005e-03 -5.96352474e-04]\n",
      "(4, 5000)\n",
      "[1.0003258 1.0019699 0.9039301 ... 1.0020329 0.988751  1.000614 ]\n",
      "-0.33368533377981796\n",
      "-0.06748994934690329\n",
      "-0.5755117354642383\n"
     ]
    }
   ],
   "source": [
    "clf = sklearn.linear_model.LogisticRegression(penalty=\"none\")\n",
    "clf.fit(sc_X, y)\n",
    "sc_scores_all = clf.coef_\n",
    "print(sc_scores_all.shape)\n",
    "print(sc_scores_all[0])\n",
    "r_clf = cuml.linear_model.LogisticRegression(penalty=\"none\", max_iter=100)\n",
    "r_clf.fit(sc_X, y)\n",
    "r_scores_all = cp.array(r_clf.coef_).T\n",
    "print(r_scores_all.shape)\n",
    "print(r_scores_all[0])\n",
    "for i in np.unique(y).astype(int)[:-1]:\n",
    "    print(np.corrcoef(r_scores_all[i].get(), sc_scores_all[i])[1,0])"
   ]
  },
  {
   "cell_type": "markdown",
   "metadata": {},
   "source": [
    "## DGE when groups include 0 but are not continuous with reference"
   ]
  },
  {
   "cell_type": "code",
   "execution_count": 42,
   "metadata": {},
   "outputs": [
    {
     "name": "stdout",
     "output_type": "stream",
     "text": [
      "Ranking took (GPU): 1.3929574489593506\n",
      "Preparing output np.rec.fromarrays took (CPU): 0.00026917457580566406\n",
      "Note: This operation will be accelerated in a future version\n",
      "[(0.05223215, 0.04582195, 0.04089808, 0.02837277)]\n",
      "[('FCN3', 'IL1RL1', 'HLA-DRB1', 'CD9')]\n"
     ]
    }
   ],
   "source": [
    "cluster_labels = cudf.Series.from_categorical(adata.obs[\"louvain\"].cat)\n",
    "var_names = cudf.Series(var_names)\n",
    "scores, names, reference = rapids_scanpy_funcs.rank_genes_groups(\n",
    "    sparse_gpu_array, cluster_labels, var_names, n_genes=1, groups=['0', '1', '2'], reference='4')\n",
    "print(scores)\n",
    "print(names)"
   ]
  },
  {
   "cell_type": "code",
   "execution_count": 43,
   "metadata": {},
   "outputs": [
    {
     "name": "stderr",
     "output_type": "stream",
     "text": [
      "/rapids-genomics/rapidgenomics/lib/python3.7/site-packages/sklearn/linear_model/_logistic.py:764: ConvergenceWarning: lbfgs failed to converge (status=1):\n",
      "STOP: TOTAL NO. of ITERATIONS REACHED LIMIT.\n",
      "\n",
      "Increase the number of iterations (max_iter) or scale the data as shown in:\n",
      "    https://scikit-learn.org/stable/modules/preprocessing.html\n",
      "Please also refer to the documentation for alternative solver options:\n",
      "    https://scikit-learn.org/stable/modules/linear_model.html#logistic-regression\n",
      "  extra_warning_msg=_LOGISTIC_SOLVER_CONVERGENCE_MSG)\n"
     ]
    },
    {
     "data": {
      "text/plain": [
       "{'params': {'groupby': 'louvain',\n",
       "  'reference': '4',\n",
       "  'method': 'logreg',\n",
       "  'use_raw': False,\n",
       "  'layer': None,\n",
       "  'corr_method': 'benjamini-hochberg'},\n",
       " 'scores': rec.array([(0.14119661, 0.22543633, 0.07103329, 0.0609046)],\n",
       "           dtype=[('0', '<f4'), ('1', '<f4'), ('2', '<f4'), ('4', '<f4')]),\n",
       " 'names': rec.array([('FCN3', 'EDNRB', 'LOC731424', 'PDGFRB')],\n",
       "           dtype=[('0', '<U50'), ('1', '<U50'), ('2', '<U50'), ('4', '<U50')])}"
      ]
     },
     "execution_count": 43,
     "metadata": {},
     "output_type": "execute_result"
    }
   ],
   "source": [
    "sc.tl.rank_genes_groups(adata, groupby=\"louvain\", n_genes=1, groups=['0', '1', '2'], reference='4', method='logreg', use_raw=False)\n",
    "adata.uns['rank_genes_groups']"
   ]
  },
  {
   "cell_type": "code",
   "execution_count": 44,
   "metadata": {},
   "outputs": [
    {
     "name": "stdout",
     "output_type": "stream",
     "text": [
      "(17240, 5000)\n"
     ]
    }
   ],
   "source": [
    "groups=['0', '1', '2']\n",
    "labels = cluster_labels\n",
    "n_genes=1\n",
    "reference='4'\n",
    "groups_order = list(groups)\n",
    "groups_order += [reference]\n",
    "n_vars = len(var_names)\n",
    "n_genes_user = n_genes\n",
    "reference = groups_order[0]\n",
    "sc_groups_order, sc_groups_masks = sc_select_groups(adata, groups_order, 'louvain')\n",
    "sc_grouping_mask = adata.obs['louvain'].isin(sc_groups_order)\n",
    "sc_grouping = adata.obs.loc[sc_grouping_mask, 'louvain']\n",
    "sc_X = adata.X[sc_grouping_mask.values, :]\n",
    "print(sc_X.shape)"
   ]
  },
  {
   "cell_type": "code",
   "execution_count": 45,
   "metadata": {},
   "outputs": [
    {
     "name": "stdout",
     "output_type": "stream",
     "text": [
      "[1. 1. 1. ... 4. 4. 4.]\n",
      "[0. 1. 2. 4.]\n",
      "(17240,)\n"
     ]
    }
   ],
   "source": [
    "y = np.array(sc_grouping.cat.codes).astype('float32')\n",
    "print(y)\n",
    "print(np.unique(y))\n",
    "print(y.shape)"
   ]
  },
  {
   "cell_type": "markdown",
   "metadata": {},
   "source": [
    "#### With penalty"
   ]
  },
  {
   "cell_type": "code",
   "execution_count": 47,
   "metadata": {},
   "outputs": [
    {
     "name": "stderr",
     "output_type": "stream",
     "text": [
      "/rapids-genomics/rapidgenomics/lib/python3.7/site-packages/sklearn/linear_model/_logistic.py:764: ConvergenceWarning: lbfgs failed to converge (status=1):\n",
      "STOP: TOTAL NO. of ITERATIONS REACHED LIMIT.\n",
      "\n",
      "Increase the number of iterations (max_iter) or scale the data as shown in:\n",
      "    https://scikit-learn.org/stable/modules/preprocessing.html\n",
      "Please also refer to the documentation for alternative solver options:\n",
      "    https://scikit-learn.org/stable/modules/linear_model.html#logistic-regression\n",
      "  extra_warning_msg=_LOGISTIC_SOLVER_CONVERGENCE_MSG)\n"
     ]
    },
    {
     "name": "stdout",
     "output_type": "stream",
     "text": [
      "(4, 5000)\n",
      "[ 6.72163261e-06 -7.25809751e-04  8.63246486e-03 ...  8.83177811e-05\n",
      " -1.45885428e-03 -1.13245907e-05]\n",
      "(4, 5000)\n",
      "[-6.0822052e-04 -5.4322236e-04 -4.7463972e-02 ... -9.9496603e-05\n",
      " -5.7657333e-03 -4.7655631e-04]\n",
      "0.3168691833084048\n",
      "0.26329726674826176\n",
      "0.2996652452141231\n"
     ]
    }
   ],
   "source": [
    "clf = sklearn.linear_model.LogisticRegression()\n",
    "clf.fit(sc_X, y)\n",
    "sc_scores_all = clf.coef_\n",
    "print(sc_scores_all.shape)\n",
    "print(sc_scores_all[0])\n",
    "r_clf = cuml.linear_model.LogisticRegression(max_iter=100)\n",
    "r_clf.fit(sc_X, y)\n",
    "r_scores_all = cp.array(r_clf.coef_).T\n",
    "print(r_scores_all.shape)\n",
    "print(r_scores_all[0])\n",
    "for i in np.unique(y).astype(int)[:-1]:\n",
    "    print(np.corrcoef(r_scores_all[i].get(), sc_scores_all[i])[1,0])"
   ]
  },
  {
   "cell_type": "markdown",
   "metadata": {},
   "source": [
    "#### Without penalty"
   ]
  },
  {
   "cell_type": "code",
   "execution_count": 46,
   "metadata": {},
   "outputs": [
    {
     "name": "stdout",
     "output_type": "stream",
     "text": [
      "(4, 5000)\n",
      "[ 5.11931547e-06  1.74696262e-03  2.59674919e-02 ...  1.26189393e-04\n",
      " -8.06942837e-03  5.34965609e-05]\n",
      "(4, 5000)\n",
      "[1.000049   1.000179   0.9813838  ... 1.0005978  1.0008705  0.99990064]\n",
      "0.5644554040397153\n",
      "0.5077624088077448\n",
      "0.6797220213991721\n"
     ]
    }
   ],
   "source": [
    "clf = sklearn.linear_model.LogisticRegression(penalty=\"none\")\n",
    "clf.fit(sc_X, y)\n",
    "sc_scores_all = clf.coef_\n",
    "print(sc_scores_all.shape)\n",
    "print(sc_scores_all[0])\n",
    "r_clf = cuml.linear_model.LogisticRegression(penalty=\"none\", max_iter=100)\n",
    "r_clf.fit(sc_X, y)\n",
    "r_scores_all = cp.array(r_clf.coef_).T\n",
    "print(r_scores_all.shape)\n",
    "print(r_scores_all[0])\n",
    "for i in np.unique(y).astype(int)[:-1]:\n",
    "    print(np.corrcoef(r_scores_all[i].get(), sc_scores_all[i])[1,0])"
   ]
  },
  {
   "cell_type": "markdown",
   "metadata": {},
   "source": [
    "## O in groups and groups continuous with reference"
   ]
  },
  {
   "cell_type": "code",
   "execution_count": 48,
   "metadata": {},
   "outputs": [
    {
     "name": "stdout",
     "output_type": "stream",
     "text": [
      "(18361, 5000)\n"
     ]
    }
   ],
   "source": [
    "groups=['0', '1', '2', '3']\n",
    "labels = cluster_labels\n",
    "n_genes=1\n",
    "reference='4'\n",
    "groups_order = list(groups)\n",
    "groups_order += [reference]\n",
    "n_vars = len(var_names)\n",
    "n_genes_user = n_genes\n",
    "reference = groups_order[0]\n",
    "sc_groups_order, sc_groups_masks = sc_select_groups(adata, groups_order, 'louvain')\n",
    "sc_grouping_mask = adata.obs['louvain'].isin(sc_groups_order)\n",
    "sc_grouping = adata.obs.loc[sc_grouping_mask, 'louvain']\n",
    "sc_X = adata.X[sc_grouping_mask.values, :]\n",
    "print(sc_X.shape)"
   ]
  },
  {
   "cell_type": "code",
   "execution_count": 49,
   "metadata": {},
   "outputs": [
    {
     "name": "stdout",
     "output_type": "stream",
     "text": [
      "[1. 1. 1. ... 4. 4. 4.]\n",
      "[0. 1. 2. 3. 4.]\n",
      "(18361,)\n"
     ]
    }
   ],
   "source": [
    "y = np.array(sc_grouping.cat.codes).astype('float32')\n",
    "print(y)\n",
    "print(np.unique(y))\n",
    "print(y.shape)"
   ]
  },
  {
   "cell_type": "markdown",
   "metadata": {},
   "source": [
    "#### With penalty"
   ]
  },
  {
   "cell_type": "code",
   "execution_count": 51,
   "metadata": {},
   "outputs": [
    {
     "name": "stderr",
     "output_type": "stream",
     "text": [
      "/rapids-genomics/rapidgenomics/lib/python3.7/site-packages/sklearn/linear_model/_logistic.py:764: ConvergenceWarning: lbfgs failed to converge (status=1):\n",
      "STOP: TOTAL NO. of ITERATIONS REACHED LIMIT.\n",
      "\n",
      "Increase the number of iterations (max_iter) or scale the data as shown in:\n",
      "    https://scikit-learn.org/stable/modules/preprocessing.html\n",
      "Please also refer to the documentation for alternative solver options:\n",
      "    https://scikit-learn.org/stable/modules/linear_model.html#logistic-regression\n",
      "  extra_warning_msg=_LOGISTIC_SOLVER_CONVERGENCE_MSG)\n"
     ]
    },
    {
     "name": "stdout",
     "output_type": "stream",
     "text": [
      "(5, 5000)\n",
      "[ 6.18465405e-05 -5.46341211e-03  1.75755151e-02 ...  1.10172463e-03\n",
      " -9.49826100e-03 -3.25159297e-05]\n",
      "(5, 5000)\n",
      "[ 7.76682555e-06 -2.96154845e-04  2.80773849e-03 ...  1.05273386e-04\n",
      "  6.32267212e-04 -2.14753618e-05]\n",
      "0.7958349255273626\n",
      "0.8252592670042664\n",
      "0.948227769438734\n",
      "0.7808189589684275\n"
     ]
    }
   ],
   "source": [
    "clf = sklearn.linear_model.LogisticRegression()\n",
    "clf.fit(sc_X, y)\n",
    "sc_scores_all = clf.coef_\n",
    "print(sc_scores_all.shape)\n",
    "print(sc_scores_all[0])\n",
    "r_clf = cuml.linear_model.LogisticRegression(max_iter=100)\n",
    "r_clf.fit(sc_X, y)\n",
    "r_scores_all = cp.array(r_clf.coef_).T\n",
    "print(r_scores_all.shape)\n",
    "print(r_scores_all[0])\n",
    "for i in np.unique(y).astype(int)[:-1]:\n",
    "    print(np.corrcoef(r_scores_all[i].get(), sc_scores_all[i])[1,0])"
   ]
  },
  {
   "cell_type": "markdown",
   "metadata": {},
   "source": [
    "#### Without penalty"
   ]
  },
  {
   "cell_type": "code",
   "execution_count": 50,
   "metadata": {},
   "outputs": [
    {
     "name": "stdout",
     "output_type": "stream",
     "text": [
      "(5, 5000)\n",
      "[ 0.00017013 -0.00585557  0.05048242 ...  0.00246908 -0.02113546\n",
      "  0.00016952]\n",
      "(5, 5000)\n",
      "[1.0000008 1.0013689 1.0112766 ... 1.0002273 1.0016681 0.9999429]\n",
      "0.9255306004941825\n",
      "0.9199888159984593\n",
      "0.7951273178705532\n",
      "0.9110552909582099\n"
     ]
    }
   ],
   "source": [
    "clf = sklearn.linear_model.LogisticRegression(penalty=\"none\")\n",
    "clf.fit(sc_X, y)\n",
    "sc_scores_all = clf.coef_\n",
    "print(sc_scores_all.shape)\n",
    "print(sc_scores_all[0])\n",
    "r_clf = cuml.linear_model.LogisticRegression(penalty=\"none\", max_iter=100)\n",
    "r_clf.fit(sc_X, y)\n",
    "r_scores_all = cp.array(r_clf.coef_).T\n",
    "print(r_scores_all.shape)\n",
    "print(r_scores_all[0])\n",
    "for i in np.unique(y).astype(int)[:-1]:\n",
    "    print(np.corrcoef(r_scores_all[i].get(), sc_scores_all[i])[1,0])"
   ]
  },
  {
   "cell_type": "markdown",
   "metadata": {},
   "source": [
    "## Using 'all' vs. 'rest' in DGE"
   ]
  },
  {
   "cell_type": "code",
   "execution_count": 52,
   "metadata": {},
   "outputs": [
    {
     "name": "stdout",
     "output_type": "stream",
     "text": [
      "Ranking took (GPU): 5.249251127243042\n",
      "Preparing output np.rec.fromarrays took (CPU): 0.001451730728149414\n",
      "Note: This operation will be accelerated in a future version\n",
      "[(0.0297264, 0.04210025, 0.04450222, 0.0431834, 0.02540051, 0.03570574, 0.04485831, 0.03297769, 0.03592882, 0.02816268, 0.02594503, 0.04435266, 0.03464667, 0.0390257, 0.0127864, 0.03279061, 0.03292505, 0.03827792, 0.02789916, 0.03810845, 0.04725059, 0.02496053, 0.04091164, 0.03817671, 0.02771649, 0.03709015, 0.00440436, 0.03318343, 0.02671634, 0.02320579, 0.02570026, 0.02966261, 0.01157081, 0.03337426, 0.02384854)]\n",
      "[('AKAP12', 'IL1RL1', 'CCL20', 'ACKR1', 'PTN', 'SCGB3A2', 'MYOM2', 'GZMK', 'RETN', 'SLC6A14', 'MZB1', 'CD79A', 'CD2', 'TPSAB1', 'MSR1', 'CCL18', 'KIAA0101', 'CLEC10A', 'ZNF683', 'KLRC2', 'FCN1', 'PLVAP', 'DKK2', 'CCL21', 'RGS5', 'CCR7', 'PPBP', 'CHIAP2', 'SOSTDC1', 'FBLN1', 'ASPN', 'AGER', 'TMEM190', 'KRT17', 'ACTA2')]\n"
     ]
    }
   ],
   "source": [
    "cluster_labels = cudf.Series.from_categorical(adata.obs[\"louvain\"].cat)\n",
    "var_names = cudf.Series(var_names)\n",
    "scores, names, reference = rapids_scanpy_funcs.rank_genes_groups(\n",
    "    sparse_gpu_array, cluster_labels, var_names, n_genes=1, groups='all', reference='rest')\n",
    "print(scores)\n",
    "print(names)"
   ]
  },
  {
   "cell_type": "code",
   "execution_count": 53,
   "metadata": {},
   "outputs": [
    {
     "name": "stderr",
     "output_type": "stream",
     "text": [
      "/rapids-genomics/rapidgenomics/lib/python3.7/site-packages/sklearn/linear_model/_logistic.py:764: ConvergenceWarning: lbfgs failed to converge (status=1):\n",
      "STOP: TOTAL NO. of ITERATIONS REACHED LIMIT.\n",
      "\n",
      "Increase the number of iterations (max_iter) or scale the data as shown in:\n",
      "    https://scikit-learn.org/stable/modules/preprocessing.html\n",
      "Please also refer to the documentation for alternative solver options:\n",
      "    https://scikit-learn.org/stable/modules/linear_model.html#logistic-regression\n",
      "  extra_warning_msg=_LOGISTIC_SOLVER_CONVERGENCE_MSG)\n"
     ]
    },
    {
     "data": {
      "text/plain": [
       "{'params': {'groupby': 'louvain',\n",
       "  'reference': 'rest',\n",
       "  'method': 'logreg',\n",
       "  'use_raw': False,\n",
       "  'layer': None,\n",
       "  'corr_method': 'benjamini-hochberg'},\n",
       " 'scores': rec.array([(0.22648402, 0.4015468, 0.4570785, 0.39126313, 0.14303766, 0.32053962, 0.49248633, 0.5683104, 0.46839613, 0.27672288, 0.26343212, 0.33692372, 0.28136167, 0.2660846, 0.35119945, 0.47345528, 0.34931272, 0.36503047, 0.29844698, 0.42254415, 0.26805136, 0.27768624, 0.36269936, 0.2483729, 0.25564334, 0.40181407, 0.06370448, 0.30314136, 0.17175293, 0.12544572, 0.1956848, 0.24868828, 0.08667456, 0.2519547, 0.14818831)],\n",
       "           dtype=[('0', '<f4'), ('1', '<f4'), ('2', '<f4'), ('3', '<f4'), ('4', '<f4'), ('5', '<f4'), ('6', '<f4'), ('7', '<f4'), ('8', '<f4'), ('9', '<f4'), ('10', '<f4'), ('11', '<f4'), ('12', '<f4'), ('13', '<f4'), ('14', '<f4'), ('15', '<f4'), ('16', '<f4'), ('17', '<f4'), ('18', '<f4'), ('19', '<f4'), ('20', '<f4'), ('21', '<f4'), ('22', '<f4'), ('23', '<f4'), ('24', '<f4'), ('25', '<f4'), ('26', '<f4'), ('27', '<f4'), ('28', '<f4'), ('29', '<f4'), ('30', '<f4'), ('31', '<f4'), ('32', '<f4'), ('33', '<f4'), ('34', '<f4')]),\n",
       " 'names': rec.array([('MT1M', 'IL1RL1', 'AKR1C3', 'ACKR1', 'PTN', 'SCGB3A2', 'MYOM2', 'CD3D', 'AXL', 'SDR16C5', 'JCHAIN', 'CD79A', 'CXCR6', 'TPSAB1', 'LYZ', 'LSP1', 'BIRC5', 'CLEC10A', 'XCL1', 'KLRC2', 'FCN1', 'SPRY1', 'DKK2', 'CCL21', 'HEY1', 'LTB', 'RGS18', 'SFTPC', 'SOSTDC1', 'PTGDS', 'ASPN', 'AGER', 'DNAH12', 'S100A2', 'ACTA2')],\n",
       "           dtype=[('0', '<U50'), ('1', '<U50'), ('2', '<U50'), ('3', '<U50'), ('4', '<U50'), ('5', '<U50'), ('6', '<U50'), ('7', '<U50'), ('8', '<U50'), ('9', '<U50'), ('10', '<U50'), ('11', '<U50'), ('12', '<U50'), ('13', '<U50'), ('14', '<U50'), ('15', '<U50'), ('16', '<U50'), ('17', '<U50'), ('18', '<U50'), ('19', '<U50'), ('20', '<U50'), ('21', '<U50'), ('22', '<U50'), ('23', '<U50'), ('24', '<U50'), ('25', '<U50'), ('26', '<U50'), ('27', '<U50'), ('28', '<U50'), ('29', '<U50'), ('30', '<U50'), ('31', '<U50'), ('32', '<U50'), ('33', '<U50'), ('34', '<U50')])}"
      ]
     },
     "execution_count": 53,
     "metadata": {},
     "output_type": "execute_result"
    }
   ],
   "source": [
    "sc.tl.rank_genes_groups(adata, groupby=\"louvain\", n_genes=1, groups='all', reference='rest', method='logreg', use_raw=False)\n",
    "adata.uns['rank_genes_groups']"
   ]
  },
  {
   "cell_type": "code",
   "execution_count": 54,
   "metadata": {},
   "outputs": [
    {
     "name": "stdout",
     "output_type": "stream",
     "text": [
      "(65462, 5000)\n"
     ]
    }
   ],
   "source": [
    "groups='all'\n",
    "labels = cluster_labels\n",
    "reference='rest'\n",
    "groups_order = 'all'\n",
    "n_vars = len(var_names)\n",
    "n_genes_user = n_genes\n",
    "sc_groups_order, sc_groups_masks = sc_select_groups(adata, groups_order, 'louvain')\n",
    "sc_grouping_mask = adata.obs['louvain'].isin(sc_groups_order)\n",
    "sc_grouping = adata.obs.loc[sc_grouping_mask, 'louvain']\n",
    "sc_X = adata.X[sc_grouping_mask.values, :]\n",
    "print(sc_X.shape)"
   ]
  },
  {
   "cell_type": "code",
   "execution_count": 55,
   "metadata": {},
   "outputs": [
    {
     "name": "stdout",
     "output_type": "stream",
     "text": [
      "[ 1.  1.  1. ...  4.  4. 29.]\n",
      "[ 0.  1.  2.  3.  4.  5.  6.  7.  8.  9. 10. 11. 12. 13. 14. 15. 16. 17.\n",
      " 18. 19. 20. 21. 22. 23. 24. 25. 26. 27. 28. 29. 30. 31. 32. 33. 34.]\n",
      "(65462,)\n"
     ]
    }
   ],
   "source": [
    "y = np.array(sc_grouping.cat.codes).astype('float32')\n",
    "print(y)\n",
    "print(np.unique(y))\n",
    "print(y.shape)"
   ]
  },
  {
   "cell_type": "markdown",
   "metadata": {},
   "source": [
    "#### Without penalty"
   ]
  },
  {
   "cell_type": "code",
   "execution_count": 56,
   "metadata": {},
   "outputs": [
    {
     "name": "stdout",
     "output_type": "stream",
     "text": [
      "(35, 5000)\n",
      "[ 0.00063807  0.18657404  0.08970132 ...  0.00376566 -0.05563251\n",
      " -0.00544399]\n",
      "(35, 5000)\n",
      "[1.0001405  1.0124428  1.0033175  ... 1.0008746  1.0149763  0.99902433]\n",
      "0.9253282309330967\n",
      "0.9544669010820406\n",
      "0.7820028332301421\n",
      "0.9455403749055326\n",
      "0.9667657856522671\n",
      "0.8612928034647898\n",
      "0.903407911845778\n",
      "0.8876006379246725\n",
      "0.7287760721661954\n",
      "0.8380529790080212\n",
      "0.9386897277128413\n",
      "0.9508854400311298\n",
      "0.8557299841649896\n",
      "0.9417650232022562\n",
      "0.7369478878895662\n",
      "0.7141608149849421\n",
      "0.8475546410378201\n",
      "0.8247734897125875\n",
      "0.9376467556596224\n",
      "0.8669446576176999\n",
      "0.9037282988965852\n",
      "0.9279164646313476\n",
      "0.9514197526747686\n",
      "0.9948367200326989\n",
      "0.9289575710468306\n",
      "0.8978306930140919\n",
      "0.994869245223436\n",
      "0.7541610207152724\n",
      "0.964967662196213\n",
      "0.956821235301046\n",
      "0.9648362075524639\n",
      "0.9193246509397599\n",
      "0.9660152576753225\n",
      "0.8864207372400081\n"
     ]
    }
   ],
   "source": [
    "clf = sklearn.linear_model.LogisticRegression(penalty=\"none\")\n",
    "clf.fit(sc_X, y)\n",
    "sc_scores_all = clf.coef_\n",
    "print(sc_scores_all.shape)\n",
    "print(sc_scores_all[0])\n",
    "r_clf = cuml.linear_model.LogisticRegression(penalty=\"none\", max_iter=100)\n",
    "r_clf.fit(sc_X, y)\n",
    "r_scores_all = cp.array(r_clf.coef_).T\n",
    "print(r_scores_all.shape)\n",
    "print(r_scores_all[0])\n",
    "for i in np.unique(y).astype(int)[:-1]:\n",
    "    print(np.corrcoef(r_scores_all[i].get(), sc_scores_all[i])[1,0])"
   ]
  },
  {
   "cell_type": "markdown",
   "metadata": {},
   "source": [
    "#### With penalty"
   ]
  },
  {
   "cell_type": "code",
   "execution_count": 57,
   "metadata": {},
   "outputs": [
    {
     "name": "stderr",
     "output_type": "stream",
     "text": [
      "/rapids-genomics/rapidgenomics/lib/python3.7/site-packages/sklearn/linear_model/_logistic.py:764: ConvergenceWarning: lbfgs failed to converge (status=1):\n",
      "STOP: TOTAL NO. of ITERATIONS REACHED LIMIT.\n",
      "\n",
      "Increase the number of iterations (max_iter) or scale the data as shown in:\n",
      "    https://scikit-learn.org/stable/modules/preprocessing.html\n",
      "Please also refer to the documentation for alternative solver options:\n",
      "    https://scikit-learn.org/stable/modules/linear_model.html#logistic-regression\n",
      "  extra_warning_msg=_LOGISTIC_SOLVER_CONVERGENCE_MSG)\n"
     ]
    },
    {
     "name": "stdout",
     "output_type": "stream",
     "text": [
      "(35, 5000)\n",
      "[ 2.43902716e-06  4.92071258e-02 -2.06252870e-03 ... -1.77370259e-04\n",
      " -2.97540250e-03 -7.03491793e-04]\n",
      "(35, 5000)\n",
      "[ 4.2938169e-05  1.0489807e-04 -2.0886110e-03 ...  3.6847877e-04\n",
      "  2.4463162e-03 -1.4279367e-04]\n",
      "0.6785875748243684\n",
      "0.7745571124479169\n",
      "0.6215108306912447\n",
      "0.7266008111697091\n",
      "0.8356478482569802\n",
      "0.5971683504105683\n",
      "0.6007280340233107\n",
      "0.5788348088001126\n",
      "0.46562316783537894\n",
      "0.6247829254625665\n",
      "0.9259819927140803\n",
      "0.8686898232267607\n",
      "0.5699063304653919\n",
      "0.9020053163400611\n",
      "0.4734949212597546\n",
      "0.47426925937131864\n",
      "0.726548190819075\n",
      "0.6770083945125206\n",
      "0.7372150476136767\n",
      "0.5091078558208798\n",
      "0.7845694842101222\n",
      "0.6685542303371479\n",
      "0.760709724349164\n",
      "0.9440590161960846\n",
      "0.6558533947278549\n",
      "0.7074766000197749\n",
      "0.9348412256127454\n",
      "0.529996801354135\n",
      "0.7850096807501702\n",
      "0.8413848125876612\n",
      "0.8785760669509548\n",
      "0.7454151338087236\n",
      "0.9682919752569986\n",
      "0.652453287947517\n"
     ]
    }
   ],
   "source": [
    "clf = sklearn.linear_model.LogisticRegression()\n",
    "clf.fit(sc_X, y)\n",
    "sc_scores_all = clf.coef_\n",
    "print(sc_scores_all.shape)\n",
    "print(sc_scores_all[0])\n",
    "r_clf = cuml.linear_model.LogisticRegression(max_iter=100)\n",
    "r_clf.fit(sc_X, y)\n",
    "r_scores_all = cp.array(r_clf.coef_).T\n",
    "print(r_scores_all.shape)\n",
    "print(r_scores_all[0])\n",
    "for i in np.unique(y).astype(int)[:-1]:\n",
    "    print(np.corrcoef(r_scores_all[i].get(), sc_scores_all[i])[1,0])"
   ]
  },
  {
   "cell_type": "code",
   "execution_count": null,
   "metadata": {},
   "outputs": [],
   "source": []
  },
  {
   "cell_type": "code",
   "execution_count": null,
   "metadata": {},
   "outputs": [],
   "source": []
  },
  {
   "cell_type": "code",
   "execution_count": 55,
   "metadata": {},
   "outputs": [],
   "source": [
    "r_top_100 = np.argsort(r_scores_all[0])[-100:]"
   ]
  },
  {
   "cell_type": "code",
   "execution_count": 56,
   "metadata": {},
   "outputs": [],
   "source": [
    "sc_top_100 = np.argsort(sc_scores_all[0])[-100:]"
   ]
  },
  {
   "cell_type": "code",
   "execution_count": 58,
   "metadata": {},
   "outputs": [
    {
     "data": {
      "text/plain": [
       "array([], dtype=int64)"
      ]
     },
     "execution_count": 58,
     "metadata": {},
     "output_type": "execute_result"
    }
   ],
   "source": [
    "np.intersect1d(r_top_100.get(), sc_top_100)"
   ]
  },
  {
   "cell_type": "code",
   "execution_count": null,
   "metadata": {},
   "outputs": [],
   "source": []
  },
  {
   "cell_type": "code",
   "execution_count": null,
   "metadata": {},
   "outputs": [],
   "source": []
  },
  {
   "cell_type": "code",
   "execution_count": null,
   "metadata": {},
   "outputs": [],
   "source": []
  },
  {
   "cell_type": "code",
   "execution_count": null,
   "metadata": {},
   "outputs": [],
   "source": []
  },
  {
   "cell_type": "code",
   "execution_count": null,
   "metadata": {},
   "outputs": [],
   "source": []
  },
  {
   "cell_type": "code",
   "execution_count": null,
   "metadata": {},
   "outputs": [],
   "source": []
  },
  {
   "cell_type": "code",
   "execution_count": 206,
   "metadata": {},
   "outputs": [
    {
     "name": "stdout",
     "output_type": "stream",
     "text": [
      "[3666]\n",
      "3666    SEPP1\n",
      "dtype: object [1.0138866]\n"
     ]
    },
    {
     "data": {
      "text/plain": [
       "array(1.0138866, dtype=float32)"
      ]
     },
     "execution_count": 206,
     "metadata": {},
     "output_type": "execute_result"
    }
   ],
   "source": [
    "partition = cp.argpartition(r_scores_all[0], -1)[-1:]\n",
    "print(partition)\n",
    "print(var_names[partition], r_scores_all[0][partition])\n",
    "r_scores_all[0].max()"
   ]
  },
  {
   "cell_type": "code",
   "execution_count": 207,
   "metadata": {},
   "outputs": [
    {
     "name": "stdout",
     "output_type": "stream",
     "text": [
      "[4628]\n",
      "4628    GPIHBP1\n",
      "dtype: object [0.19351941]\n"
     ]
    },
    {
     "data": {
      "text/plain": [
       "0.19351940748586458"
      ]
     },
     "execution_count": 207,
     "metadata": {},
     "output_type": "execute_result"
    }
   ],
   "source": [
    "partition = np.argpartition(sc_scores_all[0], -1)[-1:]\n",
    "print(partition)\n",
    "print(var_names[partition], sc_scores_all[0][partition])\n",
    "sc_scores_all[0].max()"
   ]
  },
  {
   "cell_type": "code",
   "execution_count": null,
   "metadata": {},
   "outputs": [],
   "source": []
  },
  {
   "cell_type": "code",
   "execution_count": null,
   "metadata": {},
   "outputs": [],
   "source": []
  },
  {
   "cell_type": "code",
   "execution_count": null,
   "metadata": {},
   "outputs": [],
   "source": []
  }
 ],
 "metadata": {
  "kernelspec": {
   "display_name": "Python 3",
   "language": "python",
   "name": "python3"
  },
  "language_info": {
   "codemirror_mode": {
    "name": "ipython",
    "version": 3
   },
   "file_extension": ".py",
   "mimetype": "text/x-python",
   "name": "python",
   "nbconvert_exporter": "python",
   "pygments_lexer": "ipython3",
   "version": "3.7.6"
  }
 },
 "nbformat": 4,
 "nbformat_minor": 4
}
