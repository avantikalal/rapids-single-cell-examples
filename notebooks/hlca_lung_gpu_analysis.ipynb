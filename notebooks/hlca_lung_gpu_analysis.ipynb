{
 "cells": [
  {
   "cell_type": "markdown",
   "metadata": {},
   "source": [
    "# RAPIDS & Scanpy Single-Cell RNA-seq Workflow"
   ]
  },
  {
   "cell_type": "markdown",
   "metadata": {},
   "source": [
    "Copyright (c) 2020, NVIDIA CORPORATION.\n",
    "\n",
    "Licensed under the Apache License, Version 2.0 (the \"License\") you may not use this file except in compliance with the License. You may obtain a copy of the License at\n",
    "\n",
    "    http://www.apache.org/licenses/LICENSE-2.0 \n",
    "\n",
    "Unless required by applicable law or agreed to in writing, software distributed under the License is distributed on an \"AS IS\" BASIS, WITHOUT WARRANTIES OR CONDITIONS OF ANY KIND, either express or implied. See the License for the specific language governing permissions and limitations under the License."
   ]
  },
  {
   "cell_type": "markdown",
   "metadata": {},
   "source": [
    "This notebook demonstrates a single-cell RNA analysis workflow that begins with preprocessing a count matrix of size `(n_gene, n_cell)` and results in a visualization of the clustered cells for further analysis."
   ]
  },
  {
   "cell_type": "markdown",
   "metadata": {},
   "source": [
    "For demonstration purposes, we use a dataset of ~70,000 human lung cells from Travaglini et al. 2020 (https://www.biorxiv.org/content/10.1101/742320v2) and label cells using the ACE2 and TMPRSS2 genes. See the README for instructions to download this dataset."
   ]
  },
  {
   "cell_type": "markdown",
   "metadata": {},
   "source": [
    "## Import requirements"
   ]
  },
  {
   "cell_type": "code",
   "execution_count": 1,
   "metadata": {},
   "outputs": [],
   "source": [
    "import numpy as np\n",
    "import scanpy as sc\n",
    "import anndata\n",
    "\n",
    "import sys\n",
    "import time\n",
    "import os\n",
    "\n",
    "import cudf\n",
    "import cupy as cp\n",
    "\n",
    "from cuml.decomposition import PCA\n",
    "from cuml.manifold import TSNE\n",
    "from cuml.cluster import KMeans\n",
    "\n",
    "import rapids_scanpy_funcs\n",
    "\n",
    "import warnings\n",
    "warnings.filterwarnings('ignore', 'Expected ')\n",
    "\n",
    "import cuML\n",
    "import sklearn"
   ]
  },
  {
   "cell_type": "markdown",
   "metadata": {},
   "source": [
    "We use the RAPIDS memory manager on the GPU to control how memory is allocated."
   ]
  },
  {
   "cell_type": "code",
   "execution_count": 2,
   "metadata": {
    "scrolled": true
   },
   "outputs": [],
   "source": [
    "import rmm\n",
    "\n",
    "rmm.reinitialize(\n",
    "    managed_memory=True, # Allows oversubscription\n",
    "    pool_allocator=False, # default is False\n",
    "    devices=0, # GPU device IDs to register. By default registers only GPU 0.\n",
    ")\n",
    "\n",
    "cp.cuda.set_allocator(rmm.rmm_cupy_allocator)"
   ]
  },
  {
   "cell_type": "markdown",
   "metadata": {},
   "source": [
    "## Input data"
   ]
  },
  {
   "cell_type": "markdown",
   "metadata": {},
   "source": [
    "In the cell below, we provide the path to the `.h5ad` file containing the count matrix to analyze. Please see the README for instructions on how to download the dataset we use here.\n",
    "\n",
    "We recommend saving count matrices in the sparse .h5ad format as it is much faster to load than a dense CSV file. To run this notebook using your own dataset, please see the README for instructions to convert your own count matrix into this format. Then, replace the path in the cell below with the path to your generated `.h5ad` file."
   ]
  },
  {
   "cell_type": "code",
   "execution_count": 3,
   "metadata": {},
   "outputs": [],
   "source": [
    "input_file = \"../data/krasnow_hlca_10x_UMIs.sparse.h5ad\""
   ]
  },
  {
   "cell_type": "markdown",
   "metadata": {},
   "source": [
    "## Set parameters"
   ]
  },
  {
   "cell_type": "code",
   "execution_count": 4,
   "metadata": {},
   "outputs": [],
   "source": [
    "# marker genes\n",
    "RIBO_GENE_PREFIX = \"RPS\" # Prefix for ribosomal genes to regress out\n",
    "markers = [\"ACE2\", \"TMPRSS2\", \"EPCAM\"] # Marker genes for visualization\n",
    "\n",
    "# filtering cells\n",
    "min_genes_per_cell = 200 # Filter out cells with fewer genes than this expressed \n",
    "max_genes_per_cell = 6000 # Filter out cells with more genes than this expressed \n",
    "\n",
    "# filtering genes\n",
    "n_top_genes = 5000 # Number of highly variable genes to retain\n",
    "\n",
    "# PCA\n",
    "n_components = 50 # Number of principal components to compute\n",
    "\n",
    "# t-SNE\n",
    "tsne_n_pcs = 20 # Number of principal components to use for t-SNE\n",
    "\n",
    "# k-means\n",
    "k = 20 # Number of clusters for k-means\n",
    "\n",
    "# KNN\n",
    "n_neighbors = 15 # Number of nearest neighbors for KNN graph\n",
    "knn_n_pcs = 50 # Number of principal components to use for finding nearest neighbors\n",
    "\n",
    "# UMAP\n",
    "umap_min_dist = 0.3 \n",
    "umap_spread = 1.0\n",
    "\n",
    "# Louvain\n",
    "louvain_resolution = 0.4\n",
    "\n",
    "# Gene ranking\n",
    "ranking_n_top_genes = 50 # Number of differential genes to compute for each cluster"
   ]
  },
  {
   "cell_type": "code",
   "execution_count": 5,
   "metadata": {},
   "outputs": [],
   "source": [
    "start = time.time()"
   ]
  },
  {
   "cell_type": "markdown",
   "metadata": {},
   "source": [
    "## Load and Prepare Data"
   ]
  },
  {
   "cell_type": "markdown",
   "metadata": {},
   "source": [
    "We load the sparse count matrix from an `h5ad` file using Scanpy. The sparse count matrix will then be placed on the GPU. "
   ]
  },
  {
   "cell_type": "code",
   "execution_count": 6,
   "metadata": {},
   "outputs": [],
   "source": [
    "data_load_start = time.time()"
   ]
  },
  {
   "cell_type": "code",
   "execution_count": 7,
   "metadata": {},
   "outputs": [
    {
     "name": "stdout",
     "output_type": "stream",
     "text": [
      "CPU times: user 4.6 s, sys: 659 ms, total: 5.26 s\n",
      "Wall time: 5.27 s\n"
     ]
    }
   ],
   "source": [
    "%%time\n",
    "adata = sc.read(input_file)\n",
    "adata = adata.T"
   ]
  },
  {
   "cell_type": "code",
   "execution_count": 8,
   "metadata": {},
   "outputs": [
    {
     "data": {
      "text/plain": [
       "(65662, 26485)"
      ]
     },
     "execution_count": 8,
     "metadata": {},
     "output_type": "execute_result"
    }
   ],
   "source": [
    "adata.shape"
   ]
  },
  {
   "cell_type": "markdown",
   "metadata": {},
   "source": [
    "We maintain the index of unique cells and genes in our dataset:"
   ]
  },
  {
   "cell_type": "code",
   "execution_count": 9,
   "metadata": {},
   "outputs": [
    {
     "name": "stdout",
     "output_type": "stream",
     "text": [
      "CPU times: user 627 ms, sys: 485 ms, total: 1.11 s\n",
      "Wall time: 1.18 s\n"
     ]
    }
   ],
   "source": [
    "%%time\n",
    "cells = cudf.Series(adata.obs_names)\n",
    "genes = cudf.Series(adata.var_names)"
   ]
  },
  {
   "cell_type": "code",
   "execution_count": 10,
   "metadata": {},
   "outputs": [
    {
     "name": "stdout",
     "output_type": "stream",
     "text": [
      "CPU times: user 162 ms, sys: 554 ms, total: 717 ms\n",
      "Wall time: 718 ms\n"
     ]
    }
   ],
   "source": [
    "%%time\n",
    "sparse_gpu_array = cp.sparse.csr_matrix(adata.X)"
   ]
  },
  {
   "cell_type": "markdown",
   "metadata": {},
   "source": [
    "Verify the shape of the resulting sparse matrix:"
   ]
  },
  {
   "cell_type": "code",
   "execution_count": 11,
   "metadata": {},
   "outputs": [
    {
     "data": {
      "text/plain": [
       "(65662, 26485)"
      ]
     },
     "execution_count": 11,
     "metadata": {},
     "output_type": "execute_result"
    }
   ],
   "source": [
    "sparse_gpu_array.shape"
   ]
  },
  {
   "cell_type": "markdown",
   "metadata": {},
   "source": [
    "And the number of non-zero values in the matrix:"
   ]
  },
  {
   "cell_type": "code",
   "execution_count": 12,
   "metadata": {},
   "outputs": [
    {
     "data": {
      "text/plain": [
       "126510394"
      ]
     },
     "execution_count": 12,
     "metadata": {},
     "output_type": "execute_result"
    }
   ],
   "source": [
    "sparse_gpu_array.nnz"
   ]
  },
  {
   "cell_type": "code",
   "execution_count": 13,
   "metadata": {},
   "outputs": [
    {
     "name": "stdout",
     "output_type": "stream",
     "text": [
      "Total data load and format time: 7.212949752807617\n"
     ]
    }
   ],
   "source": [
    "data_load_time = time.time()\n",
    "print(\"Total data load and format time: %s\" % (data_load_time-data_load_start))"
   ]
  },
  {
   "cell_type": "markdown",
   "metadata": {},
   "source": [
    "## Preprocessing"
   ]
  },
  {
   "cell_type": "code",
   "execution_count": 14,
   "metadata": {},
   "outputs": [],
   "source": [
    "preprocess_start = time.time()"
   ]
  },
  {
   "cell_type": "markdown",
   "metadata": {},
   "source": [
    "### Filter"
   ]
  },
  {
   "cell_type": "markdown",
   "metadata": {},
   "source": [
    "We filter the count matrix to remove cells with an extreme number of genes expressed."
   ]
  },
  {
   "cell_type": "code",
   "execution_count": 15,
   "metadata": {},
   "outputs": [
    {
     "name": "stdout",
     "output_type": "stream",
     "text": [
      "CPU times: user 580 ms, sys: 704 ms, total: 1.28 s\n",
      "Wall time: 1.34 s\n"
     ]
    }
   ],
   "source": [
    "%%time\n",
    "sparse_gpu_array = rapids_scanpy_funcs.filter_cells(sparse_gpu_array, min_genes=min_genes_per_cell, max_genes=max_genes_per_cell)"
   ]
  },
  {
   "cell_type": "markdown",
   "metadata": {},
   "source": [
    "Some genes will now have zero expression in all cells. We filter out such genes."
   ]
  },
  {
   "cell_type": "code",
   "execution_count": 16,
   "metadata": {},
   "outputs": [
    {
     "name": "stdout",
     "output_type": "stream",
     "text": [
      "CPU times: user 1.01 s, sys: 239 ms, total: 1.25 s\n",
      "Wall time: 1.26 s\n"
     ]
    }
   ],
   "source": [
    "%%time\n",
    "sparse_gpu_array, genes = rapids_scanpy_funcs.filter_genes(sparse_gpu_array, genes, min_cells=1)"
   ]
  },
  {
   "cell_type": "markdown",
   "metadata": {},
   "source": [
    "The size of our count matrix is now reduced."
   ]
  },
  {
   "cell_type": "code",
   "execution_count": 17,
   "metadata": {},
   "outputs": [
    {
     "data": {
      "text/plain": [
       "(65462, 22058)"
      ]
     },
     "execution_count": 17,
     "metadata": {},
     "output_type": "execute_result"
    }
   ],
   "source": [
    "sparse_gpu_array.shape"
   ]
  },
  {
   "cell_type": "markdown",
   "metadata": {},
   "source": [
    "### Normalize"
   ]
  },
  {
   "cell_type": "markdown",
   "metadata": {},
   "source": [
    "We normalize the count matrix so that the total counts in each cell sum to 1e4."
   ]
  },
  {
   "cell_type": "code",
   "execution_count": 18,
   "metadata": {},
   "outputs": [
    {
     "name": "stdout",
     "output_type": "stream",
     "text": [
      "CPU times: user 839 µs, sys: 427 µs, total: 1.27 ms\n",
      "Wall time: 749 µs\n"
     ]
    }
   ],
   "source": [
    "%%time\n",
    "sparse_gpu_array = rapids_scanpy_funcs.normalize_total(sparse_gpu_array, target_sum=1e4)"
   ]
  },
  {
   "cell_type": "markdown",
   "metadata": {},
   "source": [
    "Next, we log transform the count matrix."
   ]
  },
  {
   "cell_type": "code",
   "execution_count": 19,
   "metadata": {},
   "outputs": [
    {
     "name": "stdout",
     "output_type": "stream",
     "text": [
      "CPU times: user 77.6 ms, sys: 68.9 ms, total: 146 ms\n",
      "Wall time: 146 ms\n"
     ]
    }
   ],
   "source": [
    "%%time\n",
    "sparse_gpu_array = sparse_gpu_array.log1p()"
   ]
  },
  {
   "cell_type": "markdown",
   "metadata": {},
   "source": [
    "### Select Most Variable Genes"
   ]
  },
  {
   "cell_type": "markdown",
   "metadata": {},
   "source": [
    "We convert the count matrix to an annData object."
   ]
  },
  {
   "cell_type": "code",
   "execution_count": 20,
   "metadata": {},
   "outputs": [
    {
     "name": "stdout",
     "output_type": "stream",
     "text": [
      "CPU times: user 261 ms, sys: 229 ms, total: 491 ms\n",
      "Wall time: 489 ms\n"
     ]
    }
   ],
   "source": [
    "%%time\n",
    "adata = anndata.AnnData(sparse_gpu_array.get())\n",
    "adata.var_names = genes.to_pandas()"
   ]
  },
  {
   "cell_type": "markdown",
   "metadata": {},
   "source": [
    "Using scanpy, we filter the count matrix to retain only the 5000 most variable genes."
   ]
  },
  {
   "cell_type": "code",
   "execution_count": 21,
   "metadata": {},
   "outputs": [
    {
     "name": "stdout",
     "output_type": "stream",
     "text": [
      "CPU times: user 1.87 s, sys: 28.5 ms, total: 1.9 s\n",
      "Wall time: 2.16 s\n"
     ]
    }
   ],
   "source": [
    "%%time\n",
    "sc.pp.highly_variable_genes(adata, n_top_genes=n_top_genes, flavor=\"cell_ranger\")\n",
    "adata = adata[:, adata.var.highly_variable]"
   ]
  },
  {
   "cell_type": "markdown",
   "metadata": {},
   "source": [
    "### Regress out confounding factors (number of counts, ribosomal gene expression)"
   ]
  },
  {
   "cell_type": "markdown",
   "metadata": {},
   "source": [
    "We can now perform regression on the count matrix to correct for confounding factors -  for example purposes, we use the number of counts and the expression of ribosomal genes. Many workflows use the expression of mitochondrial genes (named starting with `MT-`).\n",
    "\n",
    "Before regression, we save the 'raw' expression values of the ACE2 and TMPRSS2 genes to use for labeling cells afterward. We will also store the expression of an epithelial marker gene (EPCAM)."
   ]
  },
  {
   "cell_type": "code",
   "execution_count": 22,
   "metadata": {},
   "outputs": [
    {
     "name": "stdout",
     "output_type": "stream",
     "text": [
      "CPU times: user 454 ms, sys: 248 ms, total: 702 ms\n",
      "Wall time: 709 ms\n"
     ]
    }
   ],
   "source": [
    "%%time\n",
    "tmp_norm = sparse_gpu_array.tocsc()\n",
    "ACE2_raw = tmp_norm[:, genes[genes == \"ACE2\"].index[0]].todense().ravel()\n",
    "TMPRSS2_raw = tmp_norm[:, genes[genes == \"TMPRSS2\"].index[0]].todense().ravel()\n",
    "EPCAM_raw = tmp_norm[:, genes[genes == \"EPCAM\"].index[0]].todense().ravel()\n",
    "\n",
    "del tmp_norm"
   ]
  },
  {
   "cell_type": "code",
   "execution_count": 23,
   "metadata": {},
   "outputs": [],
   "source": [
    "genes = adata.var_names\n",
    "ribo_genes = adata.var_names.str.startswith(RIBO_GENE_PREFIX)"
   ]
  },
  {
   "cell_type": "code",
   "execution_count": 24,
   "metadata": {},
   "outputs": [
    {
     "name": "stdout",
     "output_type": "stream",
     "text": [
      "CPU times: user 543 ms, sys: 24 ms, total: 567 ms\n",
      "Wall time: 565 ms\n"
     ]
    }
   ],
   "source": [
    "%%time\n",
    "filtered = adata.X"
   ]
  },
  {
   "cell_type": "markdown",
   "metadata": {},
   "source": [
    "We now calculate the total counts and the percentage of ribosomal counts for each cell."
   ]
  },
  {
   "cell_type": "code",
   "execution_count": 25,
   "metadata": {},
   "outputs": [
    {
     "name": "stdout",
     "output_type": "stream",
     "text": [
      "CPU times: user 67.3 ms, sys: 0 ns, total: 67.3 ms\n",
      "Wall time: 65.5 ms\n"
     ]
    }
   ],
   "source": [
    "%%time\n",
    "n_counts = filtered.sum(axis=1)\n",
    "percent_ribo = (filtered[:,ribo_genes].sum(axis=1) / n_counts).ravel()\n",
    "\n",
    "n_counts = cp.array(n_counts).ravel()\n",
    "percent_ribo = cp.array(percent_ribo).ravel()"
   ]
  },
  {
   "cell_type": "markdown",
   "metadata": {},
   "source": [
    "And perform regression:"
   ]
  },
  {
   "cell_type": "code",
   "execution_count": 26,
   "metadata": {},
   "outputs": [
    {
     "name": "stdout",
     "output_type": "stream",
     "text": [
      "CPU times: user 59.9 s, sys: 23.6 s, total: 1min 23s\n",
      "Wall time: 1min 31s\n"
     ]
    }
   ],
   "source": [
    "%%time\n",
    "sparse_gpu_array = cp.sparse.csc_matrix(adata.X)\n",
    "sparse_gpu_array = rapids_scanpy_funcs.regress_out(sparse_gpu_array, n_counts, percent_ribo)"
   ]
  },
  {
   "cell_type": "markdown",
   "metadata": {},
   "source": [
    "### Scale"
   ]
  },
  {
   "cell_type": "markdown",
   "metadata": {},
   "source": [
    "Finally, we scale the count matrix to obtain a z-score and apply a cutoff value of 10 standard deviations, obtaining the preprocessed count matrix."
   ]
  },
  {
   "cell_type": "code",
   "execution_count": 27,
   "metadata": {},
   "outputs": [
    {
     "name": "stdout",
     "output_type": "stream",
     "text": [
      "CPU times: user 252 ms, sys: 101 ms, total: 353 ms\n",
      "Wall time: 351 ms\n"
     ]
    }
   ],
   "source": [
    "%%time\n",
    "sparse_gpu_array = rapids_scanpy_funcs.scale(sparse_gpu_array, max_value=10)"
   ]
  },
  {
   "cell_type": "code",
   "execution_count": 28,
   "metadata": {},
   "outputs": [
    {
     "name": "stdout",
     "output_type": "stream",
     "text": [
      "Total Preprocessing time: 98.83416080474854\n"
     ]
    }
   ],
   "source": [
    "preprocess_time = time.time()\n",
    "print(\"Total Preprocessing time: %s\" % (preprocess_time-preprocess_start))"
   ]
  },
  {
   "cell_type": "markdown",
   "metadata": {},
   "source": [
    "## Cluster & Visualize"
   ]
  },
  {
   "cell_type": "code",
   "execution_count": 29,
   "metadata": {},
   "outputs": [],
   "source": [
    "cluster_start = time.time()"
   ]
  },
  {
   "cell_type": "markdown",
   "metadata": {},
   "source": [
    "We store the preprocessed count matrix as an AnnData object, which is currently in host memory. We also add the expression levels of the marker genes as observations to the annData object."
   ]
  },
  {
   "cell_type": "code",
   "execution_count": 30,
   "metadata": {},
   "outputs": [
    {
     "name": "stdout",
     "output_type": "stream",
     "text": [
      "CPU times: user 289 ms, sys: 314 ms, total: 603 ms\n",
      "Wall time: 602 ms\n"
     ]
    }
   ],
   "source": [
    "%%time\n",
    "\n",
    "var_names = adata.var_names\n",
    "adata = anndata.AnnData(sparse_gpu_array.get())\n",
    "adata.var_names = var_names\n",
    "adata.obs[\"ACE2_raw\"] = ACE2_raw.get()\n",
    "adata.obs[\"TMPRSS2_raw\"] = TMPRSS2_raw.get()\n",
    "adata.obs[\"EPCAM_raw\"] = EPCAM_raw.get()"
   ]
  },
  {
   "cell_type": "markdown",
   "metadata": {},
   "source": [
    "### Reduce"
   ]
  },
  {
   "cell_type": "markdown",
   "metadata": {},
   "source": [
    "We use PCA to reduce the dimensionality of the matrix to its top 50 principal components."
   ]
  },
  {
   "cell_type": "code",
   "execution_count": 31,
   "metadata": {},
   "outputs": [
    {
     "name": "stdout",
     "output_type": "stream",
     "text": [
      "CPU times: user 1.3 s, sys: 852 ms, total: 2.15 s\n",
      "Wall time: 2.15 s\n"
     ]
    }
   ],
   "source": [
    "%%time\n",
    "adata.obsm[\"X_pca\"] = PCA(n_components=n_components, output_type=\"numpy\").fit_transform(adata.X)"
   ]
  },
  {
   "cell_type": "markdown",
   "metadata": {},
   "source": [
    "We visualize the cells using t-SNE and label cells by color according to the k-means clustering."
   ]
  },
  {
   "cell_type": "markdown",
   "metadata": {},
   "source": [
    "### UMAP + Louvain"
   ]
  },
  {
   "cell_type": "markdown",
   "metadata": {},
   "source": [
    "We can also visualize the cells using the UMAP algorithm in Rapids. Before UMAP, we need to construct a k-nearest neighbors graph in which each cell is connected to its nearest neighbors. This can be done conveniently using rapids functionality already integrated into Scanpy.\n",
    "\n",
    "Note that Scanpy uses an approximation to the nearest neighbors on the CPU while the GPU version performs an exact search. While both methods are known to yield useful results, some differences in the resulting visualization and clusters can be observed."
   ]
  },
  {
   "cell_type": "code",
   "execution_count": 36,
   "metadata": {},
   "outputs": [
    {
     "name": "stderr",
     "output_type": "stream",
     "text": [
      "/rapids-genomics/rapidgenomics/lib/python3.7/site-packages/numba/np/ufunc/parallel.py:355: NumbaWarning: The TBB threading layer requires TBB version 2019.5 or later i.e., TBB_INTERFACE_VERSION >= 11005. Found TBB_INTERFACE_VERSION = 10005. The TBB threading layer is disabled.\n",
      "  warnings.warn(problem)\n"
     ]
    },
    {
     "name": "stdout",
     "output_type": "stream",
     "text": [
      "CPU times: user 7.65 s, sys: 707 ms, total: 8.36 s\n",
      "Wall time: 6 s\n"
     ]
    }
   ],
   "source": [
    "%%time\n",
    "sc.pp.neighbors(adata, n_neighbors=n_neighbors, n_pcs=knn_n_pcs, method='rapids')"
   ]
  },
  {
   "cell_type": "markdown",
   "metadata": {},
   "source": [
    "The UMAP function from Rapids is also integrated into Scanpy."
   ]
  },
  {
   "cell_type": "code",
   "execution_count": 37,
   "metadata": {},
   "outputs": [
    {
     "name": "stdout",
     "output_type": "stream",
     "text": [
      "WARNING: .obsp[\"connectivities\"] have not been computed using umap\n",
      "CPU times: user 601 ms, sys: 461 ms, total: 1.06 s\n",
      "Wall time: 1.08 s\n"
     ]
    }
   ],
   "source": [
    "%%time\n",
    "sc.tl.umap(adata, min_dist=umap_min_dist, spread=umap_spread, method='rapids')"
   ]
  },
  {
   "cell_type": "markdown",
   "metadata": {},
   "source": [
    "Finally, we use the Louvain algorithm for graph-based clustering, once again using the `rapids` option in Scanpy."
   ]
  },
  {
   "cell_type": "code",
   "execution_count": 38,
   "metadata": {},
   "outputs": [
    {
     "name": "stderr",
     "output_type": "stream",
     "text": [
      "/rapids-genomics/rapidgenomics/lib/python3.7/site-packages/cugraph/structure/graph.py:333: UserWarning: add_adj_list will be deprecated in next release. Use from_cudf_adjlist instead\n",
      "  Use from_cudf_adjlist instead')\n"
     ]
    },
    {
     "name": "stdout",
     "output_type": "stream",
     "text": [
      "CPU times: user 229 ms, sys: 175 ms, total: 404 ms\n",
      "Wall time: 753 ms\n"
     ]
    }
   ],
   "source": [
    "%%time\n",
    "sc.tl.louvain(adata, resolution=louvain_resolution, flavor='rapids')"
   ]
  },
  {
   "cell_type": "markdown",
   "metadata": {},
   "source": [
    "We plot the cells using the UMAP visualization, and using the Louvain clusters as labels."
   ]
  },
  {
   "cell_type": "code",
   "execution_count": 39,
   "metadata": {},
   "outputs": [
    {
     "name": "stdout",
     "output_type": "stream",
     "text": [
      "CPU times: user 7 µs, sys: 0 ns, total: 7 µs\n",
      "Wall time: 31.7 µs\n"
     ]
    }
   ],
   "source": [
    "%%time\n",
    "#sc.pl.umap(adata, color=[\"louvain\"])"
   ]
  },
  {
   "cell_type": "markdown",
   "metadata": {},
   "source": [
    "We can also view cells using UMAP and labeling by raw EPCAM, ACE2 and TMPRSS2 expression."
   ]
  },
  {
   "cell_type": "code",
   "execution_count": 40,
   "metadata": {},
   "outputs": [
    {
     "name": "stdout",
     "output_type": "stream",
     "text": [
      "CPU times: user 5 µs, sys: 2 µs, total: 7 µs\n",
      "Wall time: 13.8 µs\n"
     ]
    }
   ],
   "source": [
    "%%time\n",
    "#sc.pl.umap(adata, size=4,color=[\"ACE2_raw\"], color_map=\"Blues\", vmax=1, vmin=-0.05)\n",
    "#sc.pl.umap(adata, size=4, color=[\"TMPRSS2_raw\"], color_map=\"Blues\", vmax=1, vmin=-0.05)\n",
    "#sc.pl.umap(adata, size=4, color=[\"EPCAM_raw\"], color_map=\"Reds\", vmax=1, vmin=-0.05)"
   ]
  },
  {
   "cell_type": "code",
   "execution_count": 41,
   "metadata": {},
   "outputs": [
    {
     "name": "stdout",
     "output_type": "stream",
     "text": [
      "Total cluster time : 10.664028882980347\n"
     ]
    }
   ],
   "source": [
    "cluster_time = time.time()\n",
    "print(\"Total cluster time : %s\" % (cluster_time-cluster_start))"
   ]
  },
  {
   "cell_type": "markdown",
   "metadata": {},
   "source": [
    "## Differential expression analysis"
   ]
  },
  {
   "cell_type": "markdown",
   "metadata": {},
   "source": [
    "Once we have done clustering, we can compute a ranking for the highly differential genes in each cluster. Here we use the Louvain clusters as labels."
   ]
  },
  {
   "cell_type": "code",
   "execution_count": null,
   "metadata": {},
   "outputs": [],
   "source": []
  },
  {
   "cell_type": "markdown",
   "metadata": {},
   "source": [
    "We use logistic regression to identify the top 50 genes distinguishing each cluster."
   ]
  },
  {
   "cell_type": "code",
   "execution_count": 42,
   "metadata": {},
   "outputs": [],
   "source": [
    "def select_groups(labels, groups_order_subset='all'):\n",
    "    adata_obs_key = labels\n",
    "    groups_order = labels.cat.categories\n",
    "    groups_masks = cp.zeros(\n",
    "        (len(labels.cat.categories), len(labels.cat.codes)), dtype=bool\n",
    "    )\n",
    "    for iname, name in enumerate(labels.cat.categories):\n",
    "        # if the name is not found, fallback to index retrieval\n",
    "        if labels.cat.categories[iname] in labels.cat.codes:\n",
    "            mask = labels.cat.categories[iname] == labels.cat.codes\n",
    "        else:\n",
    "            mask = iname == labels.cat.codes\n",
    "        groups_masks[iname] = mask.values\n",
    "    groups_ids = list(range(len(groups_order)))\n",
    "    if groups_order_subset != 'all':\n",
    "        groups_ids = []\n",
    "        for name in groups_order_subset:\n",
    "            groups_ids.append(\n",
    "                cp.where(cp.array(labels.cat.categories.to_array().astype(\"int32\")) == int(name))[0][0]\n",
    "            )\n",
    "        if len(groups_ids) == 0:\n",
    "            # fallback to index retrieval\n",
    "            groups_ids = cp.where(\n",
    "                cp.in1d(\n",
    "                    cp.arange(len(labels.cat.categories)).astype(str),\n",
    "                    cp.array(groups_order_subset),\n",
    "                )\n",
    "            )[0]\n",
    "            \n",
    "        groups_ids = [groups_id.item() for groups_id in groups_ids]\n",
    "        groups_masks = groups_masks[groups_ids]\n",
    "        groups_order_subset = labels.cat.categories[groups_ids].to_array()\n",
    "    else:\n",
    "        groups_order_subset = groups_order.to_array()\n",
    "    return groups_order_subset, groups_masks\n",
    "\n"
   ]
  },
  {
   "cell_type": "code",
   "execution_count": 43,
   "metadata": {},
   "outputs": [],
   "source": [
    "def _select_top_n(scores, n_top):\n",
    "    n_from = scores.shape[0]\n",
    "    reference_indices = np.arange(n_from, dtype=int)\n",
    "    partition = np.argpartition(scores, -n_top)[-n_top:]\n",
    "    partial_indices = np.argsort(scores[partition])[::-1]\n",
    "    global_indices = reference_indices[partition][partial_indices]\n",
    "    return global_indices\n",
    "\n",
    "def _ranks(X, mask=None, mask_rest=None):\n",
    "    CONST_MAX_SIZE = 10000000\n",
    "    n_genes = X.shape[1]\n",
    "    if issparse(X):\n",
    "        merge = lambda tpl: vstack(tpl).toarray()\n",
    "        adapt = lambda X: X.toarray()\n",
    "    else:\n",
    "        merge = np.vstack\n",
    "        adapt = lambda X: X\n",
    "    masked = mask is not None and mask_rest is not None\n",
    "    if masked:\n",
    "        n_cells = np.count_nonzero(mask) + np.count_nonzero(mask_rest)\n",
    "        get_chunk = lambda X, left, right: merge(\n",
    "            (X[mask, left:right], X[mask_rest, left:right])\n",
    "        )\n",
    "    else:\n",
    "        n_cells = X.shape[0]\n",
    "        get_chunk = lambda X, left, right: adapt(X[:, left:right])\n",
    "    # Calculate chunk frames\n",
    "    max_chunk = floor(CONST_MAX_SIZE / n_cells)\n",
    "    for left in range(0, n_genes, max_chunk):\n",
    "        right = min(left + max_chunk, n_genes)\n",
    "        df = pd.DataFrame(data=get_chunk(X, left, right))\n",
    "        ranks = df.rank()\n",
    "        yield ranks, left, right\n",
    "\n",
    "def sc_select_groups(adata, groups_order_subset='all', key='groups'):\n",
    "    \"\"\"Get subset of groups in adata.obs[key].\n",
    "    \"\"\"\n",
    "    groups_order = adata.obs[key].cat.categories\n",
    "    if key + '_masks' in adata.uns:\n",
    "        groups_masks = adata.uns[key + '_masks']\n",
    "    else:\n",
    "        groups_masks = np.zeros(\n",
    "            (len(adata.obs[key].cat.categories), adata.obs[key].values.size), dtype=bool\n",
    "        )\n",
    "        for iname, name in enumerate(adata.obs[key].cat.categories):\n",
    "            # if the name is not found, fallback to index retrieval\n",
    "            if adata.obs[key].cat.categories[iname] in adata.obs[key].values:\n",
    "                mask = adata.obs[key].cat.categories[iname] == adata.obs[key].values\n",
    "            else:\n",
    "                mask = str(iname) == adata.obs[key].values\n",
    "            groups_masks[iname] = mask\n",
    "    groups_ids = list(range(len(groups_order)))\n",
    "    if groups_order_subset != 'all':\n",
    "        groups_ids = []\n",
    "        for name in groups_order_subset:\n",
    "            groups_ids.append(\n",
    "                np.where(adata.obs[key].cat.categories.values == name)[0][0]\n",
    "            )\n",
    "        if len(groups_ids) == 0:\n",
    "            # fallback to index retrieval\n",
    "            groups_ids = np.where(\n",
    "                np.in1d(\n",
    "                    np.arange(len(adata.obs[key].cat.categories)).astype(str),\n",
    "                    np.array(groups_order_subset),\n",
    "                )\n",
    "            )[0]\n",
    "        if len(groups_ids) == 0:\n",
    "            logg.debug(\n",
    "                f'{np.array(groups_order_subset)} invalid! specify valid '\n",
    "                f'groups_order (or indices) from {adata.obs[key].cat.categories}',\n",
    "            )\n",
    "            from sys import exit\n",
    "\n",
    "            exit(0)\n",
    "        groups_masks = groups_masks[groups_ids]\n",
    "        groups_order_subset = adata.obs[key].cat.categories[groups_ids].values\n",
    "    else:\n",
    "        groups_order_subset = groups_order.values\n",
    "    return groups_order_subset, groups_masks"
   ]
  },
  {
   "cell_type": "code",
   "execution_count": 44,
   "metadata": {},
   "outputs": [],
   "source": [
    "cluster_labels = cudf.Series.from_categorical(adata.obs[\"louvain\"].cat)\n",
    "var_names = cudf.Series(var_names)"
   ]
  },
  {
   "cell_type": "markdown",
   "metadata": {},
   "source": [
    "### Are DGE outputs the same?"
   ]
  },
  {
   "cell_type": "code",
   "execution_count": 45,
   "metadata": {},
   "outputs": [
    {
     "name": "stdout",
     "output_type": "stream",
     "text": [
      "['1', '2', '3']\n",
      "['1', '2', '3', '4']\n",
      "reched here!\n",
      "Ranking took (GPU): 0.9700472354888916\n",
      "Preparing output np.rec.fromarrays took (CPU): 0.00031185150146484375\n",
      "Note: This operation will be accelerated in a future version\n",
      "[(0.003589, 0.02074391, 0.01833547, 0.05072002)]\n",
      "[('CST3', 'AKAP12', 'CST3', 'ACKR1')]\n"
     ]
    }
   ],
   "source": [
    "scores, names, reference = rapids_scanpy_funcs.rank_genes_groups(\n",
    "    sparse_gpu_array, cluster_labels, var_names, n_genes=1, groups=['1', '2', '3'], reference='4')\n",
    "print(scores)\n",
    "print(names)"
   ]
  },
  {
   "cell_type": "code",
   "execution_count": 46,
   "metadata": {},
   "outputs": [
    {
     "data": {
      "text/plain": [
       "{'params': {'groupby': 'louvain',\n",
       "  'reference': '4',\n",
       "  'method': 'logreg',\n",
       "  'use_raw': False,\n",
       "  'layer': None,\n",
       "  'corr_method': 'benjamini-hochberg'},\n",
       " 'scores': rec.array([(0.10110304, 0.06121348, 0.24898697, 0.10822219)],\n",
       "           dtype=[('1', '<f4'), ('2', '<f4'), ('3', '<f4'), ('4', '<f4')]),\n",
       " 'names': rec.array([('GPIHBP1', 'LOC731424', 'ACKR1', 'XCL1')],\n",
       "           dtype=[('1', '<U50'), ('2', '<U50'), ('3', '<U50'), ('4', '<U50')])}"
      ]
     },
     "execution_count": 46,
     "metadata": {},
     "output_type": "execute_result"
    }
   ],
   "source": [
    "sc.tl.rank_genes_groups(adata, groupby=\"louvain\", n_genes=1, groups=['1', '2', '3'], reference='4', method='logreg', use_raw=False)\n",
    "adata.uns['rank_genes_groups']"
   ]
  },
  {
   "cell_type": "markdown",
   "metadata": {},
   "source": [
    "### Are labels and var_names the same?"
   ]
  },
  {
   "cell_type": "code",
   "execution_count": 47,
   "metadata": {},
   "outputs": [
    {
     "data": {
      "text/plain": [
       "True"
      ]
     },
     "execution_count": 47,
     "metadata": {},
     "output_type": "execute_result"
    }
   ],
   "source": [
    "list(var_names)==list(adata.var_names)"
   ]
  },
  {
   "cell_type": "markdown",
   "metadata": {},
   "source": [
    "### Is grouping the same?"
   ]
  },
  {
   "cell_type": "code",
   "execution_count": 55,
   "metadata": {},
   "outputs": [],
   "source": [
    "groups=['1', '2', '3']\n",
    "labels = cluster_labels\n",
    "n_genes=1\n",
    "reference='4'\n",
    "groups_order = list(groups)\n",
    "groups_order += [reference]"
   ]
  },
  {
   "cell_type": "code",
   "execution_count": 56,
   "metadata": {},
   "outputs": [
    {
     "name": "stdout",
     "output_type": "stream",
     "text": [
      "['1' '2' '3' '4'] [[False False False ... False False False]\n",
      " [False False False ... False False False]\n",
      " [False False False ... False False False]\n",
      " [False False False ... False False False]]\n"
     ]
    }
   ],
   "source": [
    "r_groups_order, r_groups_masks = select_groups(labels, groups_order)\n",
    "print(r_groups_order, r_groups_masks)"
   ]
  },
  {
   "cell_type": "code",
   "execution_count": 57,
   "metadata": {},
   "outputs": [
    {
     "name": "stdout",
     "output_type": "stream",
     "text": [
      "['1' '2' '3' '4'] [[False False False ... False False False]\n",
      " [False False False ... False False False]\n",
      " [False False False ... False False False]\n",
      " [False False False ... False False False]]\n"
     ]
    }
   ],
   "source": [
    "sc_groups_order, sc_groups_masks = sc_select_groups(adata, groups_order, 'louvain')\n",
    "print(sc_groups_order, sc_groups_masks)"
   ]
  },
  {
   "cell_type": "code",
   "execution_count": 61,
   "metadata": {},
   "outputs": [
    {
     "data": {
      "text/plain": [
       "True"
      ]
     },
     "execution_count": 61,
     "metadata": {},
     "output_type": "execute_result"
    }
   ],
   "source": [
    "(r_groups_masks.get()==sc_groups_masks).all()"
   ]
  },
  {
   "cell_type": "markdown",
   "metadata": {},
   "source": [
    "### Are the masks the same?"
   ]
  },
  {
   "cell_type": "code",
   "execution_count": 62,
   "metadata": {},
   "outputs": [
    {
     "name": "stdout",
     "output_type": "stream",
     "text": [
      "5000 1 1\n"
     ]
    }
   ],
   "source": [
    "n_vars = len(var_names)\n",
    "n_genes_user = n_genes\n",
    "reference = groups_order[0]\n",
    "print(n_vars, n_genes_user, reference)"
   ]
  },
  {
   "cell_type": "code",
   "execution_count": 64,
   "metadata": {},
   "outputs": [
    {
     "name": "stdout",
     "output_type": "stream",
     "text": [
      "1493     1\n",
      "1969     1\n",
      "1970     1\n",
      "1971     1\n",
      "1972     1\n",
      "        ..\n",
      "51778    3\n",
      "51779    3\n",
      "52332    1\n",
      "52677    1\n",
      "53789    4\n",
      "Length: 12929, dtype: category\n",
      "Categories (33, object): [0, 1, 10, 11, ..., 6, 7, 8, 9]\n"
     ]
    }
   ],
   "source": [
    "r_grouping_mask = labels.astype('int').isin(cudf.Series(r_groups_order))\n",
    "r_grouping = labels.loc[r_grouping_mask]\n",
    "print(r_grouping)"
   ]
  },
  {
   "cell_type": "code",
   "execution_count": 66,
   "metadata": {},
   "outputs": [
    {
     "name": "stdout",
     "output_type": "stream",
     "text": [
      "1493     1\n",
      "1969     1\n",
      "1970     1\n",
      "1971     1\n",
      "1972     1\n",
      "        ..\n",
      "51778    3\n",
      "51779    3\n",
      "52332    1\n",
      "52677    1\n",
      "53789    4\n",
      "Name: louvain, Length: 12929, dtype: category\n",
      "Categories (33, object): [0, 1, 2, 3, ..., 29, 30, 31, 32]\n"
     ]
    }
   ],
   "source": [
    "sc_grouping_mask = adata.obs['louvain'].isin(sc_groups_order)\n",
    "sc_grouping = adata.obs.loc[sc_grouping_mask, 'louvain']\n",
    "print(sc_grouping)"
   ]
  },
  {
   "cell_type": "code",
   "execution_count": 83,
   "metadata": {},
   "outputs": [
    {
     "data": {
      "text/plain": [
       "array([False, False, False, ..., False, False, False])"
      ]
     },
     "execution_count": 83,
     "metadata": {},
     "output_type": "execute_result"
    }
   ],
   "source": [
    "r_grouping.to_array()==np.array(sc_grouping)"
   ]
  },
  {
   "cell_type": "code",
   "execution_count": 80,
   "metadata": {},
   "outputs": [
    {
     "data": {
      "text/plain": [
       "array([1, 1, 1, ..., 1, 1, 4])"
      ]
     },
     "execution_count": 80,
     "metadata": {},
     "output_type": "execute_result"
    }
   ],
   "source": [
    "(r_grouping.to_array()==np.array(sc_grouping).astype(int)).all()"
   ]
  },
  {
   "cell_type": "markdown",
   "metadata": {},
   "source": [
    "## Are the inputs to regression the same?"
   ]
  },
  {
   "cell_type": "code",
   "execution_count": 94,
   "metadata": {},
   "outputs": [
    {
     "name": "stdout",
     "output_type": "stream",
     "text": [
      "(12929, 5000)\n"
     ]
    }
   ],
   "source": [
    "r_X = sparse_gpu_array[r_grouping_mask.values, :]\n",
    "print(r_X.shape)"
   ]
  },
  {
   "cell_type": "code",
   "execution_count": 95,
   "metadata": {},
   "outputs": [
    {
     "name": "stdout",
     "output_type": "stream",
     "text": [
      "(12929, 5000)\n"
     ]
    }
   ],
   "source": [
    "sc_X = adata.X[sc_grouping_mask.values, :]\n",
    "print(sc_X.shape)"
   ]
  },
  {
   "cell_type": "code",
   "execution_count": 96,
   "metadata": {},
   "outputs": [
    {
     "data": {
      "text/plain": [
       "True"
      ]
     },
     "execution_count": 96,
     "metadata": {},
     "output_type": "execute_result"
    }
   ],
   "source": [
    "(sc_X == X.get()).all()"
   ]
  },
  {
   "cell_type": "markdown",
   "metadata": {},
   "source": [
    "## Are the labels to regression the same?"
   ]
  },
  {
   "cell_type": "code",
   "execution_count": 115,
   "metadata": {},
   "outputs": [
    {
     "data": {
      "text/plain": [
       "True"
      ]
     },
     "execution_count": 115,
     "metadata": {},
     "output_type": "execute_result"
    }
   ],
   "source": [
    "list(sc_grouping.cat.codes) == list(r_grouping.to_array().astype('float32'))"
   ]
  },
  {
   "cell_type": "markdown",
   "metadata": {},
   "source": [
    "### Are the regression outputs the same?"
   ]
  },
  {
   "cell_type": "code",
   "execution_count": 182,
   "metadata": {},
   "outputs": [
    {
     "name": "stdout",
     "output_type": "stream",
     "text": [
      "[1. 1. 1. ... 1. 1. 4.]\n"
     ]
    }
   ],
   "source": [
    "y = np.array(sc_grouping.cat.codes).astype('float32')\n",
    "print(y)"
   ]
  },
  {
   "cell_type": "code",
   "execution_count": 282,
   "metadata": {},
   "outputs": [],
   "source": [
    "y_monotonic = np.arange(len(np.unique(y)))"
   ]
  },
  {
   "cell_type": "code",
   "execution_count": 285,
   "metadata": {},
   "outputs": [],
   "source": [
    "y = y - 1"
   ]
  },
  {
   "cell_type": "code",
   "execution_count": 319,
   "metadata": {},
   "outputs": [
    {
     "name": "stdout",
     "output_type": "stream",
     "text": [
      "(4, 5000)\n",
      "[ 0.0003458   0.0082248   0.00487657 ...  0.00427103 -0.00247896\n",
      " -0.00078385]\n"
     ]
    }
   ],
   "source": [
    "clf = sklearn.linear_model.LogisticRegression(penalty=\"none\", max_iter=100, multi_class=\"multinomial\")\n",
    "\n",
    "\n",
    "clf.fit(sc_X, y)\n",
    "sc_scores_all = clf.coef_\n",
    "print(sc_scores_all.shape)\n",
    "print(sc_scores_all[0])"
   ]
  },
  {
   "cell_type": "code",
   "execution_count": 288,
   "metadata": {},
   "outputs": [
    {
     "data": {
      "text/plain": [
       "array([0., 1., 2., 3.], dtype=float32)"
      ]
     },
     "execution_count": 288,
     "metadata": {},
     "output_type": "execute_result"
    }
   ],
   "source": [
    "np.unique(y)"
   ]
  },
  {
   "cell_type": "code",
   "execution_count": 321,
   "metadata": {},
   "outputs": [
    {
     "name": "stdout",
     "output_type": "stream",
     "text": [
      "(4, 5000)\n",
      "[1.0000695 1.0014609 1.002202  ... 1.0009569 1.0052625 0.9997621]\n"
     ]
    }
   ],
   "source": [
    "r_clf = cuml.linear_model.LogisticRegression(penalty=\"none\", max_iter=100)\n",
    "r_clf.fit(sc_X, y.astype('float32'))\n",
    "r_scores_all = cp.array(r_clf.coef_).T\n",
    "print(r_scores_all.shape)\n",
    "print(r_scores_all[0])"
   ]
  },
  {
   "cell_type": "code",
   "execution_count": 327,
   "metadata": {},
   "outputs": [
    {
     "data": {
      "text/plain": [
       "0.8926745571161203"
      ]
     },
     "execution_count": 327,
     "metadata": {},
     "output_type": "execute_result"
    }
   ],
   "source": [
    "np.corrcoef(r_scores_all[0].get(), sc_scores_all[0])[1,0]"
   ]
  },
  {
   "cell_type": "code",
   "execution_count": 315,
   "metadata": {},
   "outputs": [],
   "source": [
    "sc_y_hat = clf.predict(sc_X)"
   ]
  },
  {
   "cell_type": "code",
   "execution_count": 322,
   "metadata": {},
   "outputs": [],
   "source": [
    "r_y_hat = r_clf.predict(sc_X)"
   ]
  },
  {
   "cell_type": "code",
   "execution_count": 310,
   "metadata": {},
   "outputs": [
    {
     "data": {
      "text/plain": [
       "1.0"
      ]
     },
     "execution_count": 310,
     "metadata": {},
     "output_type": "execute_result"
    }
   ],
   "source": [
    "np.sum(sc_y_hat == r_y_hat) / len(sc_y_hat)"
   ]
  },
  {
   "cell_type": "code",
   "execution_count": 312,
   "metadata": {},
   "outputs": [
    {
     "data": {
      "text/plain": [
       "2"
      ]
     },
     "execution_count": 312,
     "metadata": {},
     "output_type": "execute_result"
    }
   ],
   "source": [
    "np.sum(np.asarray([True, True]))"
   ]
  },
  {
   "cell_type": "code",
   "execution_count": 323,
   "metadata": {},
   "outputs": [
    {
     "data": {
      "text/plain": [
       "array([[1.00034586, 1.00825872, 1.00488848, ..., 1.00428016, 0.99752411,\n",
       "        0.99921646],\n",
       "       [0.99960331, 0.99406229, 0.9900294 , ..., 0.99682133, 1.02496485,\n",
       "        1.00016649],\n",
       "       [1.00020174, 0.98859758, 0.99955046, ..., 1.0006983 , 0.97754031,\n",
       "        1.00016961],\n",
       "       [0.99984926, 1.00924097, 1.00560938, ..., 0.99821624, 1.00053654,\n",
       "        1.00044787]])"
      ]
     },
     "execution_count": 323,
     "metadata": {},
     "output_type": "execute_result"
    }
   ],
   "source": [
    "np.exp(sc_scores_all)"
   ]
  },
  {
   "cell_type": "code",
   "execution_count": 324,
   "metadata": {},
   "outputs": [
    {
     "data": {
      "text/plain": [
       "array([[1.0000695 , 1.0014609 , 1.002202  , ..., 1.0009569 , 1.0052625 ,\n",
       "        0.9997621 ],\n",
       "       [0.9998564 , 0.9984232 , 0.99478006, ..., 0.9986997 , 0.99912286,\n",
       "        1.000052  ],\n",
       "       [1.0000591 , 0.9970673 , 0.997044  , ..., 1.000362  , 0.9950766 ,\n",
       "        1.0000067 ],\n",
       "       [1.0000144 , 1.0030487 , 1.0059748 , ..., 0.99998075, 1.0005378 ,\n",
       "        1.0001786 ]], dtype=float32)"
      ]
     },
     "execution_count": 324,
     "metadata": {},
     "output_type": "execute_result"
    }
   ],
   "source": [
    "r_scores_all.get()"
   ]
  },
  {
   "cell_type": "code",
   "execution_count": 294,
   "metadata": {},
   "outputs": [
    {
     "data": {
      "text/plain": [
       "0.00035298969475261623"
      ]
     },
     "execution_count": 294,
     "metadata": {},
     "output_type": "execute_result"
    }
   ],
   "source": [
    "np.mean((np.exp(sc_scores_all) - r_scores_all.get())**2)"
   ]
  },
  {
   "cell_type": "code",
   "execution_count": 295,
   "metadata": {},
   "outputs": [
    {
     "data": {
      "text/plain": [
       "1.0003398875011547"
      ]
     },
     "execution_count": 295,
     "metadata": {},
     "output_type": "execute_result"
    }
   ],
   "source": [
    "np.mean((sc_scores_all - r_scores_all.get())**2)"
   ]
  },
  {
   "cell_type": "code",
   "execution_count": 296,
   "metadata": {},
   "outputs": [
    {
     "data": {
      "text/plain": [
       "False"
      ]
     },
     "execution_count": 296,
     "metadata": {},
     "output_type": "execute_result"
    }
   ],
   "source": [
    "np.allclose(np.exp(sc_scores_all), r_scores_all.get(), rtol=1e-1, atol=1e-1)"
   ]
  },
  {
   "cell_type": "code",
   "execution_count": 297,
   "metadata": {},
   "outputs": [
    {
     "data": {
      "text/plain": [
       "array([[ 2.76359266e-04,  6.79780708e-03,  2.68644152e-03, ...,\n",
       "         3.32327021e-03, -7.73838266e-03, -5.45658510e-04],\n",
       "       [-2.53099830e-04, -4.36092586e-03, -4.75065970e-03, ...,\n",
       "        -1.87839658e-03,  2.58419881e-02,  1.14518335e-04],\n",
       "       [ 1.42607585e-04, -8.46969271e-03,  2.50643685e-03, ...,\n",
       "         3.36263977e-04, -1.75363485e-02,  1.62939152e-04],\n",
       "       [-1.65160375e-04,  6.19230928e-03, -3.65388562e-04, ...,\n",
       "        -1.76450850e-03, -1.21373042e-06,  2.69292307e-04]])"
      ]
     },
     "execution_count": 297,
     "metadata": {},
     "output_type": "execute_result"
    }
   ],
   "source": [
    "np.exp(sc_scores_all) - r_scores_all.get()"
   ]
  },
  {
   "cell_type": "code",
   "execution_count": 234,
   "metadata": {},
   "outputs": [
    {
     "data": {
      "text/plain": [
       "array([[1.0001146 , 1.0008537 , 1.0076411 , ..., 1.0007269 , 0.9982038 ,\n",
       "        1.0001632 ],\n",
       "       [1.0000595 , 1.0000442 , 1.0029163 , ..., 1.0007036 , 1.0026325 ,\n",
       "        0.9998369 ],\n",
       "       [0.99985063, 0.9985515 , 0.99407315, ..., 0.9986741 , 0.999082  ,\n",
       "        1.0000243 ],\n",
       "       [1.0000582 , 0.9997989 , 0.9978093 , ..., 1.0004256 , 0.9982918 ,\n",
       "        0.9999907 ]], dtype=float32)"
      ]
     },
     "execution_count": 234,
     "metadata": {},
     "output_type": "execute_result"
    }
   ],
   "source": [
    "r_scores_all"
   ]
  },
  {
   "cell_type": "code",
   "execution_count": 230,
   "metadata": {},
   "outputs": [
    {
     "data": {
      "text/plain": [
       "array([[False, False, False, ..., False, False, False],\n",
       "       [False, False, False, ..., False, False, False],\n",
       "       [False, False, False, ..., False, False, False],\n",
       "       [False, False, False, ..., False, False, False]])"
      ]
     },
     "execution_count": 230,
     "metadata": {},
     "output_type": "execute_result"
    }
   ],
   "source": [
    "np.log(r_scores_all.get())==sc_scores_all"
   ]
  },
  {
   "cell_type": "code",
   "execution_count": 231,
   "metadata": {},
   "outputs": [
    {
     "data": {
      "text/plain": [
       "-0.1008142567664284"
      ]
     },
     "execution_count": 231,
     "metadata": {},
     "output_type": "execute_result"
    }
   ],
   "source": [
    "np.corrcoef(np.log(r_scores_all[0].get()), sc_scores_all[0])[1,0]"
   ]
  },
  {
   "cell_type": "code",
   "execution_count": 226,
   "metadata": {},
   "outputs": [
    {
     "data": {
      "text/plain": [
       "array([1., 2., 3., 4.], dtype=float32)"
      ]
     },
     "execution_count": 226,
     "metadata": {},
     "output_type": "execute_result"
    }
   ],
   "source": [
    "np.unique(y)"
   ]
  },
  {
   "cell_type": "code",
   "execution_count": 331,
   "metadata": {},
   "outputs": [],
   "source": [
    "np.save(open(\"cuml_logistic_coeffs.npy\", \"wb\"), r_scores_all.get())"
   ]
  },
  {
   "cell_type": "code",
   "execution_count": 332,
   "metadata": {},
   "outputs": [],
   "source": [
    "np.save(open(\"sk_logistic_coeffs.npy\", \"wb\"), sc_scores_all)"
   ]
  },
  {
   "cell_type": "code",
   "execution_count": 227,
   "metadata": {},
   "outputs": [
    {
     "data": {
      "text/plain": [
       "(12929,)"
      ]
     },
     "execution_count": 227,
     "metadata": {},
     "output_type": "execute_result"
    }
   ],
   "source": [
    "y.shape"
   ]
  },
  {
   "cell_type": "code",
   "execution_count": null,
   "metadata": {},
   "outputs": [],
   "source": []
  },
  {
   "cell_type": "markdown",
   "metadata": {},
   "source": [
    "### Top gene found by both functions"
   ]
  },
  {
   "cell_type": "code",
   "execution_count": 206,
   "metadata": {},
   "outputs": [
    {
     "name": "stdout",
     "output_type": "stream",
     "text": [
      "[3666]\n",
      "3666    SEPP1\n",
      "dtype: object [1.0138866]\n"
     ]
    },
    {
     "data": {
      "text/plain": [
       "array(1.0138866, dtype=float32)"
      ]
     },
     "execution_count": 206,
     "metadata": {},
     "output_type": "execute_result"
    }
   ],
   "source": [
    "partition = cp.argpartition(r_scores_all[0], -1)[-1:]\n",
    "print(partition)\n",
    "print(var_names[partition], r_scores_all[0][partition])\n",
    "r_scores_all[0].max()"
   ]
  },
  {
   "cell_type": "code",
   "execution_count": 207,
   "metadata": {},
   "outputs": [
    {
     "name": "stdout",
     "output_type": "stream",
     "text": [
      "[4628]\n",
      "4628    GPIHBP1\n",
      "dtype: object [0.19351941]\n"
     ]
    },
    {
     "data": {
      "text/plain": [
       "0.19351940748586458"
      ]
     },
     "execution_count": 207,
     "metadata": {},
     "output_type": "execute_result"
    }
   ],
   "source": [
    "partition = np.argpartition(sc_scores_all[0], -1)[-1:]\n",
    "print(partition)\n",
    "print(var_names[partition], sc_scores_all[0][partition])\n",
    "sc_scores_all[0].max()"
   ]
  },
  {
   "cell_type": "code",
   "execution_count": null,
   "metadata": {},
   "outputs": [],
   "source": []
  },
  {
   "cell_type": "code",
   "execution_count": null,
   "metadata": {},
   "outputs": [],
   "source": []
  },
  {
   "cell_type": "code",
   "execution_count": null,
   "metadata": {},
   "outputs": [],
   "source": []
  }
 ],
 "metadata": {
  "kernelspec": {
   "display_name": "Python 3",
   "language": "python",
   "name": "python3"
  },
  "language_info": {
   "codemirror_mode": {
    "name": "ipython",
    "version": 3
   },
   "file_extension": ".py",
   "mimetype": "text/x-python",
   "name": "python",
   "nbconvert_exporter": "python",
   "pygments_lexer": "ipython3",
   "version": "3.7.6"
  }
 },
 "nbformat": 4,
 "nbformat_minor": 4
}
